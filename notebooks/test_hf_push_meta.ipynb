{
 "cells": [
  {
   "cell_type": "code",
   "execution_count": 1,
   "metadata": {},
   "outputs": [
    {
     "name": "stdout",
     "output_type": "stream",
     "text": [
      "Using global temporary directory: /tmp/unibox_temp\n"
     ]
    }
   ],
   "source": [
    "import os\n",
    "import random\n",
    "\n",
    "from pathlib import Path\n",
    "from tqdm.auto import tqdm\n",
    "from datetime import datetime\n",
    "\n",
    "import numpy as np\n",
    "import pandas as pd\n",
    "\n",
    "import unibox as ub"
   ]
  },
  {
   "cell_type": "code",
   "execution_count": 2,
   "metadata": {},
   "outputs": [
    {
     "name": "stdout",
     "output_type": "stream",
     "text": [
      "\u001b[37m2025-02-21 23:26:36 [INFO] HuggingFaceDatasetsBackend.data_to_hub: Uploading dataset to HF repo datatmp/test_hf_card3\u001b[0m\n"
     ]
    },
    {
     "data": {
      "application/vnd.jupyter.widget-view+json": {
       "model_id": "a042d1e351be46bfb8df9e4e32d14988",
       "version_major": 2,
       "version_minor": 0
      },
      "text/plain": [
       "Uploading the dataset shards:   0%|          | 0/1 [00:00<?, ?it/s]"
      ]
     },
     "metadata": {},
     "output_type": "display_data"
    },
    {
     "data": {
      "application/vnd.jupyter.widget-view+json": {
       "model_id": "52244813594a43b38c8237fc4769c846",
       "version_major": 2,
       "version_minor": 0
      },
      "text/plain": [
       "Creating parquet from Arrow format:   0%|          | 0/1 [00:00<?, ?ba/s]"
      ]
     },
     "metadata": {},
     "output_type": "display_data"
    },
    {
     "data": {
      "application/vnd.jupyter.widget-view+json": {
       "model_id": "2a1898acb30e4b58bdc5167bf5bf4d36",
       "version_major": 2,
       "version_minor": 0
      },
      "text/plain": [
       "README.md:   0%|          | 0.00/2.34k [00:00<?, ?B/s]"
      ]
     },
     "metadata": {},
     "output_type": "display_data"
    },
    {
     "data": {
      "application/vnd.jupyter.widget-view+json": {
       "model_id": "2fcc90b2a3054505b6106ba868bd22c4",
       "version_major": 2,
       "version_minor": 0
      },
      "text/plain": [
       "README.md:   0%|          | 0.00/2.34k [00:00<?, ?B/s]"
      ]
     },
     "metadata": {},
     "output_type": "display_data"
    },
    {
     "name": "stdout",
     "output_type": "stream",
     "text": [
      "\u001b[37m2025-02-21 23:26:44 [INFO] saves: DataFrame saved (HF dataset) to \"hf://datatmp/test_hf_card3\" in 8.03s\u001b[0m\n"
     ]
    }
   ],
   "source": [
    "df = pd.DataFrame({\"name\": [f\"Name_{i}\" for i in range(1000)],\n",
    "                   \"age\": [random.randint(18, 80) for _ in range(1000)],\n",
    "                   \"height\": [random.randint(150, 200) for _ in range(1000)],\n",
    "                   \"weight\": [random.randint(50, 150) for _ in range(1000)],\n",
    "                   \"date\": [datetime.now() for _ in range(1000)],\n",
    "                   \"is_student\": [random.choice([True, False]) for _ in range(1000)]})\n",
    "\n",
    "ub.saves(df, \"hf://datatmp/test_hf_card3\")"
   ]
  }
 ],
 "metadata": {
  "kernelspec": {
   "display_name": "base",
   "language": "python",
   "name": "python3"
  },
  "language_info": {
   "codemirror_mode": {
    "name": "ipython",
    "version": 3
   },
   "file_extension": ".py",
   "mimetype": "text/x-python",
   "name": "python",
   "nbconvert_exporter": "python",
   "pygments_lexer": "ipython3",
   "version": "3.10.16"
  }
 },
 "nbformat": 4,
 "nbformat_minor": 2
}
