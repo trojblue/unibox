{
 "cells": [
  {
   "cell_type": "code",
   "execution_count": 1,
   "metadata": {},
   "outputs": [
    {
     "name": "stdout",
     "output_type": "stream",
     "text": [
      "Using global temporary directory: /tmp/unibox_temp\n",
      "\u001b[37m2025-04-16 11:11:00 [INFO] loads: Loading from hf://datatmp/test_hf_card3\u001b[0m\n"
     ]
    },
    {
     "data": {
      "text/html": [
       "<div>\n",
       "<style scoped>\n",
       "    .dataframe tbody tr th:only-of-type {\n",
       "        vertical-align: middle;\n",
       "    }\n",
       "\n",
       "    .dataframe tbody tr th {\n",
       "        vertical-align: top;\n",
       "    }\n",
       "\n",
       "    .dataframe thead th {\n",
       "        text-align: right;\n",
       "    }\n",
       "</style>\n",
       "<table border=\"1\" class=\"dataframe\">\n",
       "  <thead>\n",
       "    <tr style=\"text-align: right;\">\n",
       "      <th></th>\n",
       "      <th>name</th>\n",
       "      <th>age</th>\n",
       "      <th>height</th>\n",
       "      <th>weight</th>\n",
       "      <th>date</th>\n",
       "      <th>is_student</th>\n",
       "    </tr>\n",
       "  </thead>\n",
       "  <tbody>\n",
       "    <tr>\n",
       "      <th>0</th>\n",
       "      <td>Name_0</td>\n",
       "      <td>55</td>\n",
       "      <td>168</td>\n",
       "      <td>52</td>\n",
       "      <td>2025-02-21 23:42:14.771897</td>\n",
       "      <td>True</td>\n",
       "    </tr>\n",
       "    <tr>\n",
       "      <th>1</th>\n",
       "      <td>Name_1</td>\n",
       "      <td>53</td>\n",
       "      <td>157</td>\n",
       "      <td>95</td>\n",
       "      <td>2025-02-21 23:42:14.771899</td>\n",
       "      <td>True</td>\n",
       "    </tr>\n",
       "    <tr>\n",
       "      <th>2</th>\n",
       "      <td>Name_2</td>\n",
       "      <td>79</td>\n",
       "      <td>150</td>\n",
       "      <td>123</td>\n",
       "      <td>2025-02-21 23:42:14.771899</td>\n",
       "      <td>False</td>\n",
       "    </tr>\n",
       "    <tr>\n",
       "      <th>3</th>\n",
       "      <td>Name_3</td>\n",
       "      <td>50</td>\n",
       "      <td>193</td>\n",
       "      <td>137</td>\n",
       "      <td>2025-02-21 23:42:14.771899</td>\n",
       "      <td>True</td>\n",
       "    </tr>\n",
       "    <tr>\n",
       "      <th>4</th>\n",
       "      <td>Name_4</td>\n",
       "      <td>30</td>\n",
       "      <td>169</td>\n",
       "      <td>134</td>\n",
       "      <td>2025-02-21 23:42:14.771900</td>\n",
       "      <td>True</td>\n",
       "    </tr>\n",
       "    <tr>\n",
       "      <th>...</th>\n",
       "      <td>...</td>\n",
       "      <td>...</td>\n",
       "      <td>...</td>\n",
       "      <td>...</td>\n",
       "      <td>...</td>\n",
       "      <td>...</td>\n",
       "    </tr>\n",
       "    <tr>\n",
       "      <th>995</th>\n",
       "      <td>Name_995</td>\n",
       "      <td>55</td>\n",
       "      <td>183</td>\n",
       "      <td>112</td>\n",
       "      <td>2025-02-21 23:42:14.772106</td>\n",
       "      <td>True</td>\n",
       "    </tr>\n",
       "    <tr>\n",
       "      <th>996</th>\n",
       "      <td>Name_996</td>\n",
       "      <td>62</td>\n",
       "      <td>164</td>\n",
       "      <td>116</td>\n",
       "      <td>2025-02-21 23:42:14.772106</td>\n",
       "      <td>True</td>\n",
       "    </tr>\n",
       "    <tr>\n",
       "      <th>997</th>\n",
       "      <td>Name_997</td>\n",
       "      <td>22</td>\n",
       "      <td>200</td>\n",
       "      <td>120</td>\n",
       "      <td>2025-02-21 23:42:14.772106</td>\n",
       "      <td>False</td>\n",
       "    </tr>\n",
       "    <tr>\n",
       "      <th>998</th>\n",
       "      <td>Name_998</td>\n",
       "      <td>31</td>\n",
       "      <td>182</td>\n",
       "      <td>73</td>\n",
       "      <td>2025-02-21 23:42:14.772107</td>\n",
       "      <td>False</td>\n",
       "    </tr>\n",
       "    <tr>\n",
       "      <th>999</th>\n",
       "      <td>Name_999</td>\n",
       "      <td>73</td>\n",
       "      <td>196</td>\n",
       "      <td>97</td>\n",
       "      <td>2025-02-21 23:42:14.772107</td>\n",
       "      <td>True</td>\n",
       "    </tr>\n",
       "  </tbody>\n",
       "</table>\n",
       "<p>1000 rows × 6 columns</p>\n",
       "</div>"
      ],
      "text/plain": [
       "         name  age  height  weight                       date  is_student\n",
       "0      Name_0   55     168      52 2025-02-21 23:42:14.771897        True\n",
       "1      Name_1   53     157      95 2025-02-21 23:42:14.771899        True\n",
       "2      Name_2   79     150     123 2025-02-21 23:42:14.771899       False\n",
       "3      Name_3   50     193     137 2025-02-21 23:42:14.771899        True\n",
       "4      Name_4   30     169     134 2025-02-21 23:42:14.771900        True\n",
       "..        ...  ...     ...     ...                        ...         ...\n",
       "995  Name_995   55     183     112 2025-02-21 23:42:14.772106        True\n",
       "996  Name_996   62     164     116 2025-02-21 23:42:14.772106        True\n",
       "997  Name_997   22     200     120 2025-02-21 23:42:14.772106       False\n",
       "998  Name_998   31     182      73 2025-02-21 23:42:14.772107       False\n",
       "999  Name_999   73     196      97 2025-02-21 23:42:14.772107        True\n",
       "\n",
       "[1000 rows x 6 columns]"
      ]
     },
     "execution_count": 1,
     "metadata": {},
     "output_type": "execute_result"
    }
   ],
   "source": [
    "import unibox as ub\n",
    "\n",
    "# should load dataset as huggingface dataset, then convert to pandas\n",
    "df = ub.loads(\"hf://datatmp/test_hf_card3\").to_pandas()\n",
    "assert df is not None\n",
    "\n",
    "df"
   ]
  },
  {
   "cell_type": "code",
   "execution_count": 3,
   "metadata": {},
   "outputs": [
    {
     "name": "stdout",
     "output_type": "stream",
     "text": [
      "\u001b[37m2025-04-16 11:11:19 [INFO] saves: Saving to hf://datatmp/test_hf_card3_pandas_2x\u001b[0m\n"
     ]
    },
    {
     "ename": "ValueError",
     "evalue": "invalid literal for int() with base 10: 'datatmp/test_hf_card3_pandas_2x'",
     "output_type": "error",
     "traceback": [
      "\u001b[0;31m---------------------------------------------------------------------------\u001b[0m",
      "\u001b[0;31mValueError\u001b[0m                                Traceback (most recent call last)",
      "Cell \u001b[0;32mIn[3], line 2\u001b[0m\n\u001b[1;32m      1\u001b[0m \u001b[38;5;66;03m# save the pandas dataframe, make sure that dataset card is properly updated\u001b[39;00m\n\u001b[0;32m----> 2\u001b[0m \u001b[43mub\u001b[49m\u001b[38;5;241;43m.\u001b[39;49m\u001b[43msaves\u001b[49m\u001b[43m(\u001b[49m\u001b[43mdf\u001b[49m\u001b[43m,\u001b[49m\u001b[43m \u001b[49m\u001b[38;5;124;43m\"\u001b[39;49m\u001b[38;5;124;43mhf://datatmp/test_hf_card3_pandas_2x\u001b[39;49m\u001b[38;5;124;43m\"\u001b[39;49m\u001b[43m)\u001b[49m\n",
      "File \u001b[0;32m/local/yada/dev/unibox/src/unibox/unibox.py:96\u001b[0m, in \u001b[0;36msaves\u001b[0;34m(data, uri, debug_print, **kwargs)\u001b[0m\n\u001b[1;32m     93\u001b[0m     \u001b[38;5;28;01mraise\u001b[39;00m \u001b[38;5;167;01mValueError\u001b[39;00m(\u001b[38;5;124mf\u001b[39m\u001b[38;5;124m\"\u001b[39m\u001b[38;5;124mNo loader found for path: \u001b[39m\u001b[38;5;132;01m{\u001b[39;00muri\u001b[38;5;132;01m}\u001b[39;00m\u001b[38;5;124m\"\u001b[39m)\n\u001b[1;32m     95\u001b[0m \u001b[38;5;66;03m# Save using the loader (it will handle both dataset and file cases)\u001b[39;00m\n\u001b[0;32m---> 96\u001b[0m \u001b[43mloader\u001b[49m\u001b[38;5;241;43m.\u001b[39;49m\u001b[43msave\u001b[49m\u001b[43m(\u001b[49m\u001b[43muri\u001b[49m\u001b[43m,\u001b[49m\u001b[43m \u001b[49m\u001b[43mdata\u001b[49m\u001b[43m,\u001b[49m\u001b[43m \u001b[49m\u001b[43mloader_config\u001b[49m\u001b[38;5;241;43m=\u001b[39;49m\u001b[43mkwargs\u001b[49m\u001b[43m)\u001b[49m\n",
      "File \u001b[0;32m/local/yada/dev/unibox/src/unibox/loaders/hf_dataset_loader.py:91\u001b[0m, in \u001b[0;36mHFDatasetLoader.save\u001b[0;34m(self, hf_uri, data, loader_config)\u001b[0m\n\u001b[1;32m     88\u001b[0m \u001b[38;5;66;03m# Convert DataFrame to Dataset if needed\u001b[39;00m\n\u001b[1;32m     89\u001b[0m \u001b[38;5;28;01mif\u001b[39;00m \u001b[38;5;28misinstance\u001b[39m(data, pd\u001b[38;5;241m.\u001b[39mDataFrame):\n\u001b[1;32m     90\u001b[0m     \u001b[38;5;66;03m# readme_text = generate_dataset_readme(data, repo_id)\u001b[39;00m\n\u001b[0;32m---> 91\u001b[0m     readme_text \u001b[38;5;241m=\u001b[39m \u001b[43msummarize_dataframe\u001b[49m\u001b[43m(\u001b[49m\u001b[43mdata\u001b[49m\u001b[43m,\u001b[49m\u001b[43m \u001b[49m\u001b[43mrepo_id\u001b[49m\u001b[43m)\u001b[49m\n\u001b[1;32m     92\u001b[0m     data \u001b[38;5;241m=\u001b[39m Dataset\u001b[38;5;241m.\u001b[39mfrom_pandas(data)\n\u001b[1;32m     93\u001b[0m \u001b[38;5;28;01melif\u001b[39;00m \u001b[38;5;129;01mnot\u001b[39;00m \u001b[38;5;28misinstance\u001b[39m(data, Dataset):\n",
      "File \u001b[0;32m/local/yada/dev/unibox/src/unibox/utils/df_utils.py:228\u001b[0m, in \u001b[0;36msummarize_dataframe\u001b[0;34m(df, sample_rows, max_unique_for_freq)\u001b[0m\n\u001b[1;32m    227\u001b[0m \u001b[38;5;28;01mdef\u001b[39;00m \u001b[38;5;21msummarize_dataframe\u001b[39m(df: pd\u001b[38;5;241m.\u001b[39mDataFrame, sample_rows: \u001b[38;5;28mint\u001b[39m \u001b[38;5;241m=\u001b[39m \u001b[38;5;241m3\u001b[39m, max_unique_for_freq: \u001b[38;5;28mint\u001b[39m \u001b[38;5;241m=\u001b[39m \u001b[38;5;241m20\u001b[39m) \u001b[38;5;241m-\u001b[39m\u001b[38;5;241m>\u001b[39m \u001b[38;5;28mstr\u001b[39m:\n\u001b[0;32m--> 228\u001b[0m     sample_rows \u001b[38;5;241m=\u001b[39m \u001b[38;5;28;43mint\u001b[39;49m\u001b[43m(\u001b[49m\u001b[43msample_rows\u001b[49m\u001b[43m)\u001b[49m  \u001b[38;5;66;03m# Ensure it's an integer\u001b[39;00m\n\u001b[1;32m    229\u001b[0m     max_unique_for_freq \u001b[38;5;241m=\u001b[39m \u001b[38;5;28mint\u001b[39m(max_unique_for_freq)\n\u001b[1;32m    231\u001b[0m     lines \u001b[38;5;241m=\u001b[39m []\n",
      "\u001b[0;31mValueError\u001b[0m: invalid literal for int() with base 10: 'datatmp/test_hf_card3_pandas_2x'"
     ]
    }
   ],
   "source": [
    "# save the pandas dataframe, make sure that dataset card is properly updated\n",
    "ub.saves(df, \"hf://datatmp/test_hf_card3_pandas_2x\")\n",
    "\n"
   ]
  },
  {
   "cell_type": "code",
   "execution_count": 3,
   "metadata": {},
   "outputs": [
    {
     "data": {
      "text/html": [
       "<div>\n",
       "<style scoped>\n",
       "    .dataframe tbody tr th:only-of-type {\n",
       "        vertical-align: middle;\n",
       "    }\n",
       "\n",
       "    .dataframe tbody tr th {\n",
       "        vertical-align: top;\n",
       "    }\n",
       "\n",
       "    .dataframe thead th {\n",
       "        text-align: right;\n",
       "    }\n",
       "</style>\n",
       "<table border=\"1\" class=\"dataframe\">\n",
       "  <thead>\n",
       "    <tr style=\"text-align: right;\">\n",
       "      <th></th>\n",
       "      <th>name</th>\n",
       "      <th>age</th>\n",
       "      <th>height</th>\n",
       "      <th>weight</th>\n",
       "      <th>date</th>\n",
       "      <th>is_student</th>\n",
       "    </tr>\n",
       "  </thead>\n",
       "  <tbody>\n",
       "    <tr>\n",
       "      <th>0</th>\n",
       "      <td>Name_0</td>\n",
       "      <td>55</td>\n",
       "      <td>168</td>\n",
       "      <td>52</td>\n",
       "      <td>2025-02-21 23:42:14.771897</td>\n",
       "      <td>True</td>\n",
       "    </tr>\n",
       "    <tr>\n",
       "      <th>1</th>\n",
       "      <td>Name_1</td>\n",
       "      <td>53</td>\n",
       "      <td>157</td>\n",
       "      <td>95</td>\n",
       "      <td>2025-02-21 23:42:14.771899</td>\n",
       "      <td>True</td>\n",
       "    </tr>\n",
       "    <tr>\n",
       "      <th>2</th>\n",
       "      <td>Name_2</td>\n",
       "      <td>79</td>\n",
       "      <td>150</td>\n",
       "      <td>123</td>\n",
       "      <td>2025-02-21 23:42:14.771899</td>\n",
       "      <td>False</td>\n",
       "    </tr>\n",
       "  </tbody>\n",
       "</table>\n",
       "</div>"
      ],
      "text/plain": [
       "     name  age  height  weight                       date  is_student\n",
       "0  Name_0   55     168      52 2025-02-21 23:42:14.771897        True\n",
       "1  Name_1   53     157      95 2025-02-21 23:42:14.771899        True\n",
       "2  Name_2   79     150     123 2025-02-21 23:42:14.771899       False"
      ]
     },
     "execution_count": 3,
     "metadata": {},
     "output_type": "execute_result"
    }
   ],
   "source": [
    "df.iloc[:3]"
   ]
  },
  {
   "cell_type": "code",
   "execution_count": 4,
   "metadata": {},
   "outputs": [
    {
     "name": "stdout",
     "output_type": "stream",
     "text": [
      "\u001b[37m2025-02-22 20:58:35 [INFO] saves: Saving to hf://datatmp/test_hf_card3_pandas\u001b[0m\n"
     ]
    },
    {
     "data": {
      "application/vnd.jupyter.widget-view+json": {
       "model_id": "d2264d1ca4fc409cb750c26584c33297",
       "version_major": 2,
       "version_minor": 0
      },
      "text/plain": [
       "Uploading the dataset shards:   0%|          | 0/1 [00:00<?, ?it/s]"
      ]
     },
     "metadata": {},
     "output_type": "display_data"
    },
    {
     "data": {
      "application/vnd.jupyter.widget-view+json": {
       "model_id": "715c4f49d3974181bae5684e5a8a5d48",
       "version_major": 2,
       "version_minor": 0
      },
      "text/plain": [
       "Creating parquet from Arrow format:   0%|          | 0/1 [00:00<?, ?ba/s]"
      ]
     },
     "metadata": {},
     "output_type": "display_data"
    },
    {
     "data": {
      "application/vnd.jupyter.widget-view+json": {
       "model_id": "977f0035af9343898a2acff2586165ae",
       "version_major": 2,
       "version_minor": 0
      },
      "text/plain": [
       "README.md:   0%|          | 0.00/2.50k [00:00<?, ?B/s]"
      ]
     },
     "metadata": {},
     "output_type": "display_data"
    },
    {
     "data": {
      "application/vnd.jupyter.widget-view+json": {
       "model_id": "837a24c79af34eb283d72512a5bcf3dc",
       "version_major": 2,
       "version_minor": 0
      },
      "text/plain": [
       "README.md:   0%|          | 0.00/2.50k [00:00<?, ?B/s]"
      ]
     },
     "metadata": {},
     "output_type": "display_data"
    }
   ],
   "source": [
    "# save to a split\n",
    "ub.saves(df.iloc[:3], \"hf://datatmp/test_hf_card3_pandas\", split=\"first_3\")"
   ]
  },
  {
   "cell_type": "code",
   "execution_count": 5,
   "metadata": {},
   "outputs": [
    {
     "name": "stdout",
     "output_type": "stream",
     "text": [
      "\u001b[37m2025-02-22 20:58:41 [INFO] loads: Loading from hf://datatmp/test_hf_card3_pandas\u001b[0m\n"
     ]
    },
    {
     "data": {
      "application/vnd.jupyter.widget-view+json": {
       "model_id": "066ca1ba2f3743d794fee9da459f325c",
       "version_major": 2,
       "version_minor": 0
      },
      "text/plain": [
       "README.md:   0%|          | 0.00/2.33k [00:00<?, ?B/s]"
      ]
     },
     "metadata": {},
     "output_type": "display_data"
    },
    {
     "data": {
      "application/vnd.jupyter.widget-view+json": {
       "model_id": "238381a2558c4c8f8be87aa7f5785731",
       "version_major": 2,
       "version_minor": 0
      },
      "text/plain": [
       "Generating train split:   0%|          | 0/1000 [00:00<?, ? examples/s]"
      ]
     },
     "metadata": {},
     "output_type": "display_data"
    },
    {
     "data": {
      "application/vnd.jupyter.widget-view+json": {
       "model_id": "a943bef388bd4192a85bbc422999e924",
       "version_major": 2,
       "version_minor": 0
      },
      "text/plain": [
       "Generating first_3 split:   0%|          | 0/3 [00:00<?, ? examples/s]"
      ]
     },
     "metadata": {},
     "output_type": "display_data"
    },
    {
     "data": {
      "text/html": [
       "<div>\n",
       "<style scoped>\n",
       "    .dataframe tbody tr th:only-of-type {\n",
       "        vertical-align: middle;\n",
       "    }\n",
       "\n",
       "    .dataframe tbody tr th {\n",
       "        vertical-align: top;\n",
       "    }\n",
       "\n",
       "    .dataframe thead th {\n",
       "        text-align: right;\n",
       "    }\n",
       "</style>\n",
       "<table border=\"1\" class=\"dataframe\">\n",
       "  <thead>\n",
       "    <tr style=\"text-align: right;\">\n",
       "      <th></th>\n",
       "      <th>name</th>\n",
       "      <th>age</th>\n",
       "      <th>height</th>\n",
       "      <th>weight</th>\n",
       "      <th>date</th>\n",
       "      <th>is_student</th>\n",
       "    </tr>\n",
       "  </thead>\n",
       "  <tbody>\n",
       "    <tr>\n",
       "      <th>0</th>\n",
       "      <td>Name_0</td>\n",
       "      <td>55</td>\n",
       "      <td>168</td>\n",
       "      <td>52</td>\n",
       "      <td>2025-02-21 23:42:14.771897</td>\n",
       "      <td>True</td>\n",
       "    </tr>\n",
       "    <tr>\n",
       "      <th>1</th>\n",
       "      <td>Name_1</td>\n",
       "      <td>53</td>\n",
       "      <td>157</td>\n",
       "      <td>95</td>\n",
       "      <td>2025-02-21 23:42:14.771899</td>\n",
       "      <td>True</td>\n",
       "    </tr>\n",
       "    <tr>\n",
       "      <th>2</th>\n",
       "      <td>Name_2</td>\n",
       "      <td>79</td>\n",
       "      <td>150</td>\n",
       "      <td>123</td>\n",
       "      <td>2025-02-21 23:42:14.771899</td>\n",
       "      <td>False</td>\n",
       "    </tr>\n",
       "  </tbody>\n",
       "</table>\n",
       "</div>"
      ],
      "text/plain": [
       "     name  age  height  weight                       date  is_student\n",
       "0  Name_0   55     168      52 2025-02-21 23:42:14.771897        True\n",
       "1  Name_1   53     157      95 2025-02-21 23:42:14.771899        True\n",
       "2  Name_2   79     150     123 2025-02-21 23:42:14.771899       False"
      ]
     },
     "execution_count": 5,
     "metadata": {},
     "output_type": "execute_result"
    }
   ],
   "source": [
    "# load a split\n",
    "df3 = ub.loads(\"hf://datatmp/test_hf_card3_pandas\", split=\"first_3\").to_pandas()\n",
    "df3"
   ]
  },
  {
   "cell_type": "code",
   "execution_count": 1,
   "metadata": {},
   "outputs": [
    {
     "name": "stdout",
     "output_type": "stream",
     "text": [
      "Using global temporary directory: /tmp/unibox_temp\n",
      "\u001b[37m2025-02-22 21:34:22 [INFO] loads: Loading from s3://dataset-ingested/temp/unibox_debug/clip_prompts_list_full_v2.txt\u001b[0m\n"
     ]
    },
    {
     "data": {
      "text/plain": [
       "['anime',\n",
       " 'anime illustration',\n",
       " 'an anime style image',\n",
       " 'a photo',\n",
       " 'a realistic photo',\n",
       " 'a cosplay photo',\n",
       " 'a photo of a person in cosplay costumes',\n",
       " 'a photo of a person doing cosplay',\n",
       " 'a drawing',\n",
       " 'a painting',\n",
       " 'logo design',\n",
       " 'font design',\n",
       " '2d design',\n",
       " 'a 3d render',\n",
       " 'a character design sheet',\n",
       " 'a QR code',\n",
       " 'drawing sketch',\n",
       " 'painting sketch',\n",
       " 'a realistic drawing',\n",
       " 'a realistic photo of some food',\n",
       " 'a photo of the table with food',\n",
       " 'food photo',\n",
       " 'an abstract painting',\n",
       " 'artificial illustration',\n",
       " 'realistic photography',\n",
       " 'a photo of a painting',\n",
       " 'sketch image',\n",
       " 'doodle',\n",
       " 'album cover',\n",
       " 'meme',\n",
       " 'comic page',\n",
       " 'manga page',\n",
       " 'screenshot',\n",
       " 'gacha game',\n",
       " 'mobile game screenshot',\n",
       " 'a document',\n",
       " 'a document page',\n",
       " 'text',\n",
       " 'book',\n",
       " 'a diagram',\n",
       " 'solid color',\n",
       " 'color gradient',\n",
       " 'simplistic image',\n",
       " 'an professional image that follows photography composition',\n",
       " 'an image with imbalanced visual weight',\n",
       " 'an image with all focal subjects concentrated on one side of the frame',\n",
       " 'an image with primary subject obscured',\n",
       " 'an image with distracting unimportant objects',\n",
       " 'an image with balanced exposure that enhances the image',\n",
       " 'an image with dynamic lighting',\n",
       " 'an image with lighting that originates from an angle',\n",
       " 'an image with artificial lighting',\n",
       " 'an image with lackluster lighting',\n",
       " 'an excessively dim image',\n",
       " 'an overexposed image',\n",
       " 'an image with strong color and contrast',\n",
       " 'an monochromatic image',\n",
       " 'an image with a single dominant color',\n",
       " 'a realistic photo of some food',\n",
       " 'food photo',\n",
       " 'a photo of the table with food',\n",
       " 'a QR code',\n",
       " 'a 3d render',\n",
       " 'logo design',\n",
       " 'a photo of a person in cosplay costumes',\n",
       " 'a photo of a person doing cosplay',\n",
       " 'a cosplay photo',\n",
       " 'a photo of a book',\n",
       " 'a blank page with no recognizable main subject',\n",
       " 'a screenshot taken from a drawing software',\n",
       " 'a sketch with no recognizable main subject',\n",
       " 'a sketch that is not of anime subject',\n",
       " 'a photo of the real world taken from a perspective with printed anime goods in the shot',\n",
       " 'a photo taken from a perspective with printed anime goods in the shot',\n",
       " 'a photo taken from a perspective with some anime goods in the shot',\n",
       " 'an anime advertisement with text on it',\n",
       " 'a poster with text with anime figures on it',\n",
       " 'a screenshot from gacha game with ui on it',\n",
       " 'a gacha game screenshot',\n",
       " 'a photo of a drawing on a table with some pens nearby',\n",
       " 'a photo of a drawing and its surrounding',\n",
       " 'a photo of anime related goods',\n",
       " 'a photo of a booth of anime goods']"
      ]
     },
     "execution_count": 1,
     "metadata": {},
     "output_type": "execute_result"
    }
   ],
   "source": [
    "import unibox as ub\n",
    "\n",
    "res = ub.loads(\"s3://dataset-ingested/temp/unibox_debug/clip_prompts_list_full_v2.txt\")\n",
    "res"
   ]
  },
  {
   "cell_type": "code",
   "execution_count": 7,
   "metadata": {},
   "outputs": [
    {
     "name": "stdout",
     "output_type": "stream",
     "text": [
      "\u001b[37m2025-02-22 20:58:53 [INFO] loads: Loading from hf://datatmp/test_hf_card3/data/train-00000-of-00001.parquet\u001b[0m\n"
     ]
    },
    {
     "data": {
      "text/html": [
       "<div>\n",
       "<style scoped>\n",
       "    .dataframe tbody tr th:only-of-type {\n",
       "        vertical-align: middle;\n",
       "    }\n",
       "\n",
       "    .dataframe tbody tr th {\n",
       "        vertical-align: top;\n",
       "    }\n",
       "\n",
       "    .dataframe thead th {\n",
       "        text-align: right;\n",
       "    }\n",
       "</style>\n",
       "<table border=\"1\" class=\"dataframe\">\n",
       "  <thead>\n",
       "    <tr style=\"text-align: right;\">\n",
       "      <th></th>\n",
       "      <th>name</th>\n",
       "      <th>age</th>\n",
       "      <th>height</th>\n",
       "      <th>weight</th>\n",
       "      <th>date</th>\n",
       "      <th>is_student</th>\n",
       "    </tr>\n",
       "  </thead>\n",
       "  <tbody>\n",
       "    <tr>\n",
       "      <th>0</th>\n",
       "      <td>Name_0</td>\n",
       "      <td>55</td>\n",
       "      <td>168</td>\n",
       "      <td>52</td>\n",
       "      <td>2025-02-21 23:42:14.771897</td>\n",
       "      <td>True</td>\n",
       "    </tr>\n",
       "    <tr>\n",
       "      <th>1</th>\n",
       "      <td>Name_1</td>\n",
       "      <td>53</td>\n",
       "      <td>157</td>\n",
       "      <td>95</td>\n",
       "      <td>2025-02-21 23:42:14.771899</td>\n",
       "      <td>True</td>\n",
       "    </tr>\n",
       "    <tr>\n",
       "      <th>2</th>\n",
       "      <td>Name_2</td>\n",
       "      <td>79</td>\n",
       "      <td>150</td>\n",
       "      <td>123</td>\n",
       "      <td>2025-02-21 23:42:14.771899</td>\n",
       "      <td>False</td>\n",
       "    </tr>\n",
       "    <tr>\n",
       "      <th>3</th>\n",
       "      <td>Name_3</td>\n",
       "      <td>50</td>\n",
       "      <td>193</td>\n",
       "      <td>137</td>\n",
       "      <td>2025-02-21 23:42:14.771899</td>\n",
       "      <td>True</td>\n",
       "    </tr>\n",
       "    <tr>\n",
       "      <th>4</th>\n",
       "      <td>Name_4</td>\n",
       "      <td>30</td>\n",
       "      <td>169</td>\n",
       "      <td>134</td>\n",
       "      <td>2025-02-21 23:42:14.771900</td>\n",
       "      <td>True</td>\n",
       "    </tr>\n",
       "    <tr>\n",
       "      <th>...</th>\n",
       "      <td>...</td>\n",
       "      <td>...</td>\n",
       "      <td>...</td>\n",
       "      <td>...</td>\n",
       "      <td>...</td>\n",
       "      <td>...</td>\n",
       "    </tr>\n",
       "    <tr>\n",
       "      <th>995</th>\n",
       "      <td>Name_995</td>\n",
       "      <td>55</td>\n",
       "      <td>183</td>\n",
       "      <td>112</td>\n",
       "      <td>2025-02-21 23:42:14.772106</td>\n",
       "      <td>True</td>\n",
       "    </tr>\n",
       "    <tr>\n",
       "      <th>996</th>\n",
       "      <td>Name_996</td>\n",
       "      <td>62</td>\n",
       "      <td>164</td>\n",
       "      <td>116</td>\n",
       "      <td>2025-02-21 23:42:14.772106</td>\n",
       "      <td>True</td>\n",
       "    </tr>\n",
       "    <tr>\n",
       "      <th>997</th>\n",
       "      <td>Name_997</td>\n",
       "      <td>22</td>\n",
       "      <td>200</td>\n",
       "      <td>120</td>\n",
       "      <td>2025-02-21 23:42:14.772106</td>\n",
       "      <td>False</td>\n",
       "    </tr>\n",
       "    <tr>\n",
       "      <th>998</th>\n",
       "      <td>Name_998</td>\n",
       "      <td>31</td>\n",
       "      <td>182</td>\n",
       "      <td>73</td>\n",
       "      <td>2025-02-21 23:42:14.772107</td>\n",
       "      <td>False</td>\n",
       "    </tr>\n",
       "    <tr>\n",
       "      <th>999</th>\n",
       "      <td>Name_999</td>\n",
       "      <td>73</td>\n",
       "      <td>196</td>\n",
       "      <td>97</td>\n",
       "      <td>2025-02-21 23:42:14.772107</td>\n",
       "      <td>True</td>\n",
       "    </tr>\n",
       "  </tbody>\n",
       "</table>\n",
       "<p>1000 rows × 6 columns</p>\n",
       "</div>"
      ],
      "text/plain": [
       "         name  age  height  weight                       date  is_student\n",
       "0      Name_0   55     168      52 2025-02-21 23:42:14.771897        True\n",
       "1      Name_1   53     157      95 2025-02-21 23:42:14.771899        True\n",
       "2      Name_2   79     150     123 2025-02-21 23:42:14.771899       False\n",
       "3      Name_3   50     193     137 2025-02-21 23:42:14.771899        True\n",
       "4      Name_4   30     169     134 2025-02-21 23:42:14.771900        True\n",
       "..        ...  ...     ...     ...                        ...         ...\n",
       "995  Name_995   55     183     112 2025-02-21 23:42:14.772106        True\n",
       "996  Name_996   62     164     116 2025-02-21 23:42:14.772106        True\n",
       "997  Name_997   22     200     120 2025-02-21 23:42:14.772106       False\n",
       "998  Name_998   31     182      73 2025-02-21 23:42:14.772107       False\n",
       "999  Name_999   73     196      97 2025-02-21 23:42:14.772107        True\n",
       "\n",
       "[1000 rows x 6 columns]"
      ]
     },
     "execution_count": 7,
     "metadata": {},
     "output_type": "execute_result"
    }
   ],
   "source": [
    "import unibox as ub\n",
    "\n",
    "res = ub.loads(\"hf://datatmp/test_hf_card3/data/train-00000-of-00001.parquet\")\n",
    "res"
   ]
  },
  {
   "cell_type": "code",
   "execution_count": 8,
   "metadata": {},
   "outputs": [
    {
     "name": "stdout",
     "output_type": "stream",
     "text": [
      "\u001b[37m2025-02-22 20:58:55 [INFO] loads: Loading from hf://datatmp/test_hf_card3_pandas/data/first_3-00000-of-00001.parquet\u001b[0m\n"
     ]
    },
    {
     "data": {
      "text/html": [
       "<div>\n",
       "<style scoped>\n",
       "    .dataframe tbody tr th:only-of-type {\n",
       "        vertical-align: middle;\n",
       "    }\n",
       "\n",
       "    .dataframe tbody tr th {\n",
       "        vertical-align: top;\n",
       "    }\n",
       "\n",
       "    .dataframe thead th {\n",
       "        text-align: right;\n",
       "    }\n",
       "</style>\n",
       "<table border=\"1\" class=\"dataframe\">\n",
       "  <thead>\n",
       "    <tr style=\"text-align: right;\">\n",
       "      <th></th>\n",
       "      <th>name</th>\n",
       "      <th>age</th>\n",
       "      <th>height</th>\n",
       "      <th>weight</th>\n",
       "      <th>date</th>\n",
       "      <th>is_student</th>\n",
       "    </tr>\n",
       "  </thead>\n",
       "  <tbody>\n",
       "    <tr>\n",
       "      <th>0</th>\n",
       "      <td>Name_0</td>\n",
       "      <td>55</td>\n",
       "      <td>168</td>\n",
       "      <td>52</td>\n",
       "      <td>2025-02-21 23:42:14.771897</td>\n",
       "      <td>True</td>\n",
       "    </tr>\n",
       "    <tr>\n",
       "      <th>1</th>\n",
       "      <td>Name_1</td>\n",
       "      <td>53</td>\n",
       "      <td>157</td>\n",
       "      <td>95</td>\n",
       "      <td>2025-02-21 23:42:14.771899</td>\n",
       "      <td>True</td>\n",
       "    </tr>\n",
       "    <tr>\n",
       "      <th>2</th>\n",
       "      <td>Name_2</td>\n",
       "      <td>79</td>\n",
       "      <td>150</td>\n",
       "      <td>123</td>\n",
       "      <td>2025-02-21 23:42:14.771899</td>\n",
       "      <td>False</td>\n",
       "    </tr>\n",
       "  </tbody>\n",
       "</table>\n",
       "</div>"
      ],
      "text/plain": [
       "     name  age  height  weight                       date  is_student\n",
       "0  Name_0   55     168      52 2025-02-21 23:42:14.771897        True\n",
       "1  Name_1   53     157      95 2025-02-21 23:42:14.771899        True\n",
       "2  Name_2   79     150     123 2025-02-21 23:42:14.771899       False"
      ]
     },
     "execution_count": 8,
     "metadata": {},
     "output_type": "execute_result"
    }
   ],
   "source": [
    "import unibox as ub\n",
    "\n",
    "res = ub.loads(\"hf://datatmp/test_hf_card3_pandas/data/first_3-00000-of-00001.parquet\")\n",
    "res"
   ]
  },
  {
   "cell_type": "code",
   "execution_count": 1,
   "metadata": {},
   "outputs": [
    {
     "name": "stdout",
     "output_type": "stream",
     "text": [
      "Using global temporary directory: /tmp/unibox_temp\n",
      "\u001b[37m2025-02-22 21:00:11 [INFO] ls: Listing contents of hf://datatmp/test_hf_card3_pandas/data\u001b[0m\n"
     ]
    },
    {
     "data": {
      "text/plain": [
       "['hf://datatmp/test_hf_card3_pandas/data/first_3-00000-of-00001.parquet',\n",
       " 'hf://datatmp/test_hf_card3_pandas/data/train-00000-of-00001.parquet']"
      ]
     },
     "execution_count": 1,
     "metadata": {},
     "output_type": "execute_result"
    }
   ],
   "source": [
    "import unibox as ub\n",
    "\n",
    "ub.ls(\"hf://datatmp/test_hf_card3_pandas/data\")"
   ]
  },
  {
   "cell_type": "markdown",
   "metadata": {},
   "source": [
    "debug num_proc:"
   ]
  },
  {
   "cell_type": "code",
   "execution_count": null,
   "metadata": {},
   "outputs": [],
   "source": []
  }
 ],
 "metadata": {
  "kernelspec": {
   "display_name": "base",
   "language": "python",
   "name": "python3"
  },
  "language_info": {
   "codemirror_mode": {
    "name": "ipython",
    "version": 3
   },
   "file_extension": ".py",
   "mimetype": "text/x-python",
   "name": "python",
   "nbconvert_exporter": "python",
   "pygments_lexer": "ipython3",
   "version": "3.10.16"
  }
 },
 "nbformat": 4,
 "nbformat_minor": 2
}
