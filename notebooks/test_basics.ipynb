{
 "cells": [
  {
   "cell_type": "code",
   "execution_count": 1,
   "metadata": {},
   "outputs": [
    {
     "name": "stdout",
     "output_type": "stream",
     "text": [
      "Using global temporary directory: /tmp/unibox_temp\n"
     ]
    }
   ],
   "source": [
    "import unibox as ub"
   ]
  },
  {
   "cell_type": "markdown",
   "metadata": {},
   "source": [
    "## Load tests:"
   ]
  },
  {
   "cell_type": "markdown",
   "metadata": {},
   "source": [
    "### local:"
   ]
  },
  {
   "cell_type": "code",
   "execution_count": 2,
   "metadata": {},
   "outputs": [
    {
     "name": "stdout",
     "output_type": "stream",
     "text": [
      "\u001b[37m2025-01-03 22:25:43 [INFO] loads: dict LOADED from \"../tests/test_files/sample.json\" in 0.00 seconds\u001b[0m\n",
      "\u001b[37m2025-01-03 22:25:43 [INFO] saves: dict saved successfully to \"local.json\" in 0.00 seconds\u001b[0m\n"
     ]
    }
   ],
   "source": [
    "json_dict = ub.loads(\"../tests/test_files/sample.json\")\n",
    "ub.saves(json_dict, \"local.json\")"
   ]
  },
  {
   "cell_type": "code",
   "execution_count": 3,
   "metadata": {},
   "outputs": [
    {
     "name": "stdout",
     "output_type": "stream",
     "text": [
      "\u001b[37m2025-01-03 22:25:43 [INFO] loads: JpegImageFile LOADED from \"../tests/test_files/sample.jpg\" in 0.01 seconds\u001b[0m\n"
     ]
    },
    {
     "data": {
      "image/jpeg": "[encoded data removed]",
      "image/png": "[encoded data removed]",
      "text/plain": [
       "<PIL.JpegImagePlugin.JpegImageFile image mode=RGB size=100x67>"
      ]
     },
     "execution_count": 3,
     "metadata": {},
     "output_type": "execute_result"
    }
   ],
   "source": [
    "img = ub.loads(\"../tests/test_files/sample.jpg\")\n",
    "img.thumbnail((100, 100))\n",
    "img"
   ]
  },
  {
   "cell_type": "code",
   "execution_count": 4,
   "metadata": {},
   "outputs": [
    {
     "name": "stdout",
     "output_type": "stream",
     "text": [
      "\u001b[37m2025-01-03 22:25:43 [INFO] saves: JpegImageFile saved successfully to \"local.jpg\" in 0.00 seconds\u001b[0m\n"
     ]
    }
   ],
   "source": [
    "ub.saves(img, \"local.jpg\")"
   ]
  },
  {
   "cell_type": "markdown",
   "metadata": {},
   "source": [
    "### huggingface:"
   ]
  },
  {
   "cell_type": "code",
   "execution_count": 2,
   "metadata": {},
   "outputs": [
    {
     "name": "stdout",
     "output_type": "stream",
     "text": [
      "\u001b[37m2025-01-04 01:11:12 [INFO] loads: Dataset LOADED from \"hf://incantor/aesthetic_eagle_5category_iter99\" in 1.97 seconds\u001b[0m\n"
     ]
    }
   ],
   "source": [
    "import unibox as ub\n",
    "hf_dset = ub.loads(\"hf://incantor/aesthetic_eagle_5category_iter99\")"
   ]
  },
  {
   "cell_type": "code",
   "execution_count": 3,
   "metadata": {},
   "outputs": [
    {
     "data": {
      "text/html": [
       "<div>\n",
       "<style scoped>\n",
       "    .dataframe tbody tr th:only-of-type {\n",
       "        vertical-align: middle;\n",
       "    }\n",
       "\n",
       "    .dataframe tbody tr th {\n",
       "        vertical-align: top;\n",
       "    }\n",
       "\n",
       "    .dataframe thead th {\n",
       "        text-align: right;\n",
       "    }\n",
       "</style>\n",
       "<table border=\"1\" class=\"dataframe\">\n",
       "  <thead>\n",
       "    <tr style=\"text-align: right;\">\n",
       "      <th></th>\n",
       "      <th>filename</th>\n",
       "      <th>size</th>\n",
       "      <th>tags</th>\n",
       "      <th>folders</th>\n",
       "      <th>isDeleted</th>\n",
       "      <th>url</th>\n",
       "      <th>annotation</th>\n",
       "      <th>star</th>\n",
       "      <th>width</th>\n",
       "      <th>height</th>\n",
       "      <th>palette_color</th>\n",
       "      <th>palette_ratio</th>\n",
       "      <th>animated</th>\n",
       "      <th>resolutionWidth</th>\n",
       "      <th>resolutionHeight</th>\n",
       "      <th>duration</th>\n",
       "      <th>s3_uri</th>\n",
       "      <th>score_rating</th>\n",
       "      <th>__index_level_0__</th>\n",
       "    </tr>\n",
       "  </thead>\n",
       "  <tbody>\n",
       "    <tr>\n",
       "      <th>0</th>\n",
       "      <td>1499364669504786436_1_resized.webp</td>\n",
       "      <td>321060</td>\n",
       "      <td>[]</td>\n",
       "      <td>[LYPYMJJ3VYBIN]</td>\n",
       "      <td>False</td>\n",
       "      <td></td>\n",
       "      <td></td>\n",
       "      <td>2.0</td>\n",
       "      <td>1024</td>\n",
       "      <td>1462</td>\n",
       "      <td>#efded7</td>\n",
       "      <td>69</td>\n",
       "      <td>None</td>\n",
       "      <td>NaN</td>\n",
       "      <td>NaN</td>\n",
       "      <td>NaN</td>\n",
       "      <td>s3://dataset-ingested/resized_1572864/14993646...</td>\n",
       "      <td>1</td>\n",
       "      <td>0</td>\n",
       "    </tr>\n",
       "    <tr>\n",
       "      <th>1</th>\n",
       "      <td>image_4419749_resized.webp</td>\n",
       "      <td>133108</td>\n",
       "      <td>[]</td>\n",
       "      <td>[LYPYMJJ3VYBIN]</td>\n",
       "      <td>False</td>\n",
       "      <td></td>\n",
       "      <td></td>\n",
       "      <td>3.0</td>\n",
       "      <td>960</td>\n",
       "      <td>1358</td>\n",
       "      <td>#fbfaf9</td>\n",
       "      <td>52</td>\n",
       "      <td>None</td>\n",
       "      <td>NaN</td>\n",
       "      <td>NaN</td>\n",
       "      <td>NaN</td>\n",
       "      <td>s3://unidataset-danbooru/resized_1310720/image...</td>\n",
       "      <td>2</td>\n",
       "      <td>1</td>\n",
       "    </tr>\n",
       "    <tr>\n",
       "      <th>2</th>\n",
       "      <td>image_4418472_resized.webp</td>\n",
       "      <td>200260</td>\n",
       "      <td>[]</td>\n",
       "      <td>[LYPYMJJ3VYBIN]</td>\n",
       "      <td>False</td>\n",
       "      <td></td>\n",
       "      <td></td>\n",
       "      <td>3.0</td>\n",
       "      <td>1056</td>\n",
       "      <td>1195</td>\n",
       "      <td>#faf8f8</td>\n",
       "      <td>70</td>\n",
       "      <td>None</td>\n",
       "      <td>NaN</td>\n",
       "      <td>NaN</td>\n",
       "      <td>NaN</td>\n",
       "      <td>s3://unidataset-danbooru/resized_1310720/image...</td>\n",
       "      <td>2</td>\n",
       "      <td>2</td>\n",
       "    </tr>\n",
       "    <tr>\n",
       "      <th>3</th>\n",
       "      <td>image_4420914_resized.webp</td>\n",
       "      <td>222084</td>\n",
       "      <td>[]</td>\n",
       "      <td>[LYPYMJJ3VYBIN]</td>\n",
       "      <td>False</td>\n",
       "      <td></td>\n",
       "      <td></td>\n",
       "      <td>3.0</td>\n",
       "      <td>768</td>\n",
       "      <td>1596</td>\n",
       "      <td>#e6e6e5</td>\n",
       "      <td>70</td>\n",
       "      <td>None</td>\n",
       "      <td>NaN</td>\n",
       "      <td>NaN</td>\n",
       "      <td>NaN</td>\n",
       "      <td>s3://unidataset-danbooru/resized_1310720/image...</td>\n",
       "      <td>2</td>\n",
       "      <td>3</td>\n",
       "    </tr>\n",
       "    <tr>\n",
       "      <th>4</th>\n",
       "      <td>image_4420811_resized.webp</td>\n",
       "      <td>355796</td>\n",
       "      <td>[]</td>\n",
       "      <td>[LYPYMJJ3VYBIN]</td>\n",
       "      <td>False</td>\n",
       "      <td></td>\n",
       "      <td></td>\n",
       "      <td>1.0</td>\n",
       "      <td>1056</td>\n",
       "      <td>1188</td>\n",
       "      <td>#e2e0e0</td>\n",
       "      <td>37</td>\n",
       "      <td>None</td>\n",
       "      <td>NaN</td>\n",
       "      <td>NaN</td>\n",
       "      <td>NaN</td>\n",
       "      <td>s3://unidataset-danbooru/resized_1310720/image...</td>\n",
       "      <td>0</td>\n",
       "      <td>4</td>\n",
       "    </tr>\n",
       "  </tbody>\n",
       "</table>\n",
       "</div>"
      ],
      "text/plain": [
       "                             filename    size tags          folders  \\\n",
       "0  1499364669504786436_1_resized.webp  321060   []  [LYPYMJJ3VYBIN]   \n",
       "1          image_4419749_resized.webp  133108   []  [LYPYMJJ3VYBIN]   \n",
       "2          image_4418472_resized.webp  200260   []  [LYPYMJJ3VYBIN]   \n",
       "3          image_4420914_resized.webp  222084   []  [LYPYMJJ3VYBIN]   \n",
       "4          image_4420811_resized.webp  355796   []  [LYPYMJJ3VYBIN]   \n",
       "\n",
       "   isDeleted url annotation  star  width  height palette_color  palette_ratio  \\\n",
       "0      False                  2.0   1024    1462       #efded7             69   \n",
       "1      False                  3.0    960    1358       #fbfaf9             52   \n",
       "2      False                  3.0   1056    1195       #faf8f8             70   \n",
       "3      False                  3.0    768    1596       #e6e6e5             70   \n",
       "4      False                  1.0   1056    1188       #e2e0e0             37   \n",
       "\n",
       "  animated  resolutionWidth  resolutionHeight  duration  \\\n",
       "0     None              NaN               NaN       NaN   \n",
       "1     None              NaN               NaN       NaN   \n",
       "2     None              NaN               NaN       NaN   \n",
       "3     None              NaN               NaN       NaN   \n",
       "4     None              NaN               NaN       NaN   \n",
       "\n",
       "                                              s3_uri  score_rating  \\\n",
       "0  s3://dataset-ingested/resized_1572864/14993646...             1   \n",
       "1  s3://unidataset-danbooru/resized_1310720/image...             2   \n",
       "2  s3://unidataset-danbooru/resized_1310720/image...             2   \n",
       "3  s3://unidataset-danbooru/resized_1310720/image...             2   \n",
       "4  s3://unidataset-danbooru/resized_1310720/image...             0   \n",
       "\n",
       "   __index_level_0__  \n",
       "0                  0  \n",
       "1                  1  \n",
       "2                  2  \n",
       "3                  3  \n",
       "4                  4  "
      ]
     },
     "execution_count": 3,
     "metadata": {},
     "output_type": "execute_result"
    }
   ],
   "source": [
    "test_df = hf_dset.to_pandas().head()\n",
    "test_df"
   ]
  },
  {
   "cell_type": "code",
   "execution_count": 4,
   "metadata": {},
   "outputs": [
    {
     "name": "stdout",
     "output_type": "stream",
     "text": [
      "Uploading DataFrame to HF repo datatmp/tmp_df\n"
     ]
    },
    {
     "data": {
      "application/vnd.jupyter.widget-view+json": {
       "model_id": "164cff072a82435289ae4587a07c34ef",
       "version_major": 2,
       "version_minor": 0
      },
      "text/plain": [
       "Uploading the dataset shards:   0%|          | 0/1 [00:00<?, ?it/s]"
      ]
     },
     "metadata": {},
     "output_type": "display_data"
    },
    {
     "data": {
      "application/vnd.jupyter.widget-view+json": {
       "model_id": "7ddee1479fd84a32b17a10580be21f0f",
       "version_major": 2,
       "version_minor": 0
      },
      "text/plain": [
       "Creating parquet from Arrow format:   0%|          | 0/1 [00:00<?, ?ba/s]"
      ]
     },
     "metadata": {},
     "output_type": "display_data"
    },
    {
     "name": "stderr",
     "output_type": "stream",
     "text": [
      "No files have been modified since last commit. Skipping to prevent empty commit.\n"
     ]
    },
    {
     "name": "stdout",
     "output_type": "stream",
     "text": [
      "https://huggingface.co/datasets/datatmp/tmp_df/commit/5f5b904a250d36e6965a6393c7ebe4446139a5db\n",
      "\u001b[37m2025-01-04 01:11:18 [INFO] saves: DataFrame saved successfully to \"hf://datatmp/tmp_df\" in 0.56 seconds\u001b[0m\n"
     ]
    }
   ],
   "source": [
    "ub.saves(test_df, \"hf://datatmp/tmp_df\")"
   ]
  },
  {
   "cell_type": "code",
   "execution_count": 5,
   "metadata": {},
   "outputs": [
    {
     "name": "stdout",
     "output_type": "stream",
     "text": [
      "Uploading DataFrame to HF repo datatmp/tmp_df\n"
     ]
    },
    {
     "ename": "AttributeError",
     "evalue": "'Dataset' object has no attribute 'columns'",
     "output_type": "error",
     "traceback": [
      "\u001b[0;31m---------------------------------------------------------------------------\u001b[0m",
      "\u001b[0;31mAttributeError\u001b[0m                            Traceback (most recent call last)",
      "Cell \u001b[0;32mIn[5], line 1\u001b[0m\n\u001b[0;32m----> 1\u001b[0m \u001b[43mub\u001b[49m\u001b[38;5;241;43m.\u001b[39;49m\u001b[43msaves\u001b[49m\u001b[43m(\u001b[49m\u001b[43mhf_dset\u001b[49m\u001b[43m,\u001b[49m\u001b[43m \u001b[49m\u001b[38;5;124;43m\"\u001b[39;49m\u001b[38;5;124;43mhf://datatmp/tmp_df\u001b[39;49m\u001b[38;5;124;43m\"\u001b[39;49m\u001b[43m)\u001b[49m\n",
      "File \u001b[0;32m/lv0/yada/unibox/src/unibox/unibox.py:97\u001b[0m, in \u001b[0;36msaves\u001b[0;34m(data, uri, debug_print, **kwargs)\u001b[0m\n\u001b[1;32m     92\u001b[0m \u001b[38;5;28;01melif\u001b[39;00m \u001b[38;5;28misinstance\u001b[39m(backend, HuggingFaceBackend) \u001b[38;5;129;01mand\u001b[39;00m suffix \u001b[38;5;241m==\u001b[39m \u001b[38;5;124m\"\u001b[39m\u001b[38;5;124m\"\u001b[39m:\n\u001b[1;32m     93\u001b[0m     \u001b[38;5;28;01mif\u001b[39;00m \u001b[38;5;28misinstance\u001b[39m(data, pd\u001b[38;5;241m.\u001b[39mDataFrame) \u001b[38;5;129;01mor\u001b[39;00m \u001b[38;5;28misinstance\u001b[39m(data, datasets\u001b[38;5;241m.\u001b[39mDataset):\n\u001b[1;32m     94\u001b[0m         \u001b[38;5;66;03m# If it's a DataFrame or a HF Dataset, we can upload it directly to HF as a dataset\u001b[39;00m\n\u001b[1;32m     95\u001b[0m         \u001b[38;5;66;03m# without saving it to a local file first.\u001b[39;00m\n\u001b[1;32m     96\u001b[0m         \u001b[38;5;66;03m# We can pass a dummy local_path or None\u001b[39;00m\n\u001b[0;32m---> 97\u001b[0m         \u001b[43mbackend\u001b[49m\u001b[38;5;241;43m.\u001b[39;49m\u001b[43mdf_to_hub\u001b[49m\u001b[43m(\u001b[49m\u001b[43mdata\u001b[49m\u001b[43m,\u001b[49m\u001b[43m \u001b[49m\u001b[38;5;28;43mstr\u001b[39;49m\u001b[43m(\u001b[49m\u001b[43muri\u001b[49m\u001b[43m)\u001b[49m\u001b[43m)\u001b[49m\n\u001b[1;32m     99\u001b[0m     \u001b[38;5;28;01melse\u001b[39;00m:\n\u001b[1;32m    100\u001b[0m         \u001b[38;5;66;03m# try:\u001b[39;00m\n\u001b[1;32m    101\u001b[0m         \u001b[38;5;66;03m#     logger.warning(\"HF dataset push only supports DataFrames for now. trying to convert..\")\u001b[39;00m\n\u001b[0;32m   (...)\u001b[0m\n\u001b[1;32m    104\u001b[0m         \u001b[38;5;66;03m# except Exception as e:\u001b[39;00m\n\u001b[1;32m    105\u001b[0m         \u001b[38;5;66;03m#     logger.error(f\"Failed to convert {type(data)} to DataFrame: {e}\")\u001b[39;00m\n\u001b[1;32m    106\u001b[0m         \u001b[38;5;28;01mraise\u001b[39;00m \u001b[38;5;167;01mValueError\u001b[39;00m(\u001b[38;5;124mf\u001b[39m\u001b[38;5;124m\"\u001b[39m\u001b[38;5;124mUnsupported data type for HF dataset push: \u001b[39m\u001b[38;5;132;01m{\u001b[39;00m\u001b[38;5;28mtype\u001b[39m(data)\u001b[38;5;132;01m}\u001b[39;00m\u001b[38;5;124m\"\u001b[39m)\n",
      "File \u001b[0;32m/lv0/yada/unibox/src/unibox/backends/hf_backend.py:109\u001b[0m, in \u001b[0;36mHuggingFaceBackend.df_to_hub\u001b[0;34m(self, df, uri)\u001b[0m\n\u001b[1;32m    107\u001b[0m trimmed \u001b[38;5;241m=\u001b[39m uri[\u001b[38;5;28mlen\u001b[39m(HF_PREFIX) :]\n\u001b[1;32m    108\u001b[0m \u001b[38;5;28mprint\u001b[39m(\u001b[38;5;124mf\u001b[39m\u001b[38;5;124m\"\u001b[39m\u001b[38;5;124mUploading DataFrame to HF repo \u001b[39m\u001b[38;5;132;01m{\u001b[39;00mtrimmed\u001b[38;5;132;01m}\u001b[39;00m\u001b[38;5;124m\"\u001b[39m)\n\u001b[0;32m--> 109\u001b[0m dataset_combined \u001b[38;5;241m=\u001b[39m \u001b[43mDataset\u001b[49m\u001b[38;5;241;43m.\u001b[39;49m\u001b[43mfrom_pandas\u001b[49m\u001b[43m(\u001b[49m\u001b[43mdf\u001b[49m\u001b[43m)\u001b[49m\n\u001b[1;32m    111\u001b[0m push_msg \u001b[38;5;241m=\u001b[39m dataset_combined\u001b[38;5;241m.\u001b[39mpush_to_hub(trimmed, private\u001b[38;5;241m=\u001b[39m\u001b[38;5;28;01mTrue\u001b[39;00m)\n\u001b[1;32m    112\u001b[0m \u001b[38;5;28mprint\u001b[39m(push_msg)\n",
      "File \u001b[0;32m~/miniconda3/lib/python3.10/site-packages/datasets/arrow_dataset.py:861\u001b[0m, in \u001b[0;36mDataset.from_pandas\u001b[0;34m(cls, df, features, info, split, preserve_index)\u001b[0m\n\u001b[1;32m    859\u001b[0m     info \u001b[38;5;241m=\u001b[39m DatasetInfo()\n\u001b[1;32m    860\u001b[0m info\u001b[38;5;241m.\u001b[39mfeatures \u001b[38;5;241m=\u001b[39m features\n\u001b[0;32m--> 861\u001b[0m table \u001b[38;5;241m=\u001b[39m \u001b[43mInMemoryTable\u001b[49m\u001b[38;5;241;43m.\u001b[39;49m\u001b[43mfrom_pandas\u001b[49m\u001b[43m(\u001b[49m\n\u001b[1;32m    862\u001b[0m \u001b[43m    \u001b[49m\u001b[43mdf\u001b[49m\u001b[38;5;241;43m=\u001b[39;49m\u001b[43mdf\u001b[49m\u001b[43m,\u001b[49m\n\u001b[1;32m    863\u001b[0m \u001b[43m    \u001b[49m\u001b[43mpreserve_index\u001b[49m\u001b[38;5;241;43m=\u001b[39;49m\u001b[43mpreserve_index\u001b[49m\u001b[43m,\u001b[49m\n\u001b[1;32m    864\u001b[0m \u001b[43m\u001b[49m\u001b[43m)\u001b[49m\n\u001b[1;32m    865\u001b[0m \u001b[38;5;28;01mif\u001b[39;00m features \u001b[38;5;129;01mis\u001b[39;00m \u001b[38;5;129;01mnot\u001b[39;00m \u001b[38;5;28;01mNone\u001b[39;00m:\n\u001b[1;32m    866\u001b[0m     \u001b[38;5;66;03m# more expensive cast than InMemoryTable.from_pandas(..., schema=features.arrow_schema)\u001b[39;00m\n\u001b[1;32m    867\u001b[0m     \u001b[38;5;66;03m# needed to support the str to Audio conversion for instance\u001b[39;00m\n\u001b[1;32m    868\u001b[0m     table \u001b[38;5;241m=\u001b[39m table\u001b[38;5;241m.\u001b[39mcast(features\u001b[38;5;241m.\u001b[39marrow_schema)\n",
      "File \u001b[0;32m~/miniconda3/lib/python3.10/site-packages/datasets/table.py:720\u001b[0m, in \u001b[0;36mInMemoryTable.from_pandas\u001b[0;34m(cls, *args, **kwargs)\u001b[0m\n\u001b[1;32m    664\u001b[0m \u001b[38;5;129m@classmethod\u001b[39m\n\u001b[1;32m    665\u001b[0m \u001b[38;5;28;01mdef\u001b[39;00m \u001b[38;5;21mfrom_pandas\u001b[39m(\u001b[38;5;28mcls\u001b[39m, \u001b[38;5;241m*\u001b[39margs, \u001b[38;5;241m*\u001b[39m\u001b[38;5;241m*\u001b[39mkwargs):\n\u001b[1;32m    666\u001b[0m \u001b[38;5;250m    \u001b[39m\u001b[38;5;124;03m\"\"\"\u001b[39;00m\n\u001b[1;32m    667\u001b[0m \u001b[38;5;124;03m    Convert pandas.DataFrame to an Arrow Table.\u001b[39;00m\n\u001b[1;32m    668\u001b[0m \n\u001b[0;32m   (...)\u001b[0m\n\u001b[1;32m    718\u001b[0m \u001b[38;5;124;03m    ```\u001b[39;00m\n\u001b[1;32m    719\u001b[0m \u001b[38;5;124;03m    \"\"\"\u001b[39;00m\n\u001b[0;32m--> 720\u001b[0m     \u001b[38;5;28;01mreturn\u001b[39;00m \u001b[38;5;28mcls\u001b[39m(\u001b[43mpa\u001b[49m\u001b[38;5;241;43m.\u001b[39;49m\u001b[43mTable\u001b[49m\u001b[38;5;241;43m.\u001b[39;49m\u001b[43mfrom_pandas\u001b[49m\u001b[43m(\u001b[49m\u001b[38;5;241;43m*\u001b[39;49m\u001b[43margs\u001b[49m\u001b[43m,\u001b[49m\u001b[43m \u001b[49m\u001b[38;5;241;43m*\u001b[39;49m\u001b[38;5;241;43m*\u001b[39;49m\u001b[43mkwargs\u001b[49m\u001b[43m)\u001b[49m)\n",
      "File \u001b[0;32m~/miniconda3/lib/python3.10/site-packages/pyarrow/table.pxi:4751\u001b[0m, in \u001b[0;36mpyarrow.lib.Table.from_pandas\u001b[0;34m()\u001b[0m\n",
      "File \u001b[0;32m~/miniconda3/lib/python3.10/site-packages/pyarrow/pandas_compat.py:581\u001b[0m, in \u001b[0;36mdataframe_to_arrays\u001b[0;34m(df, schema, preserve_index, nthreads, columns, safe)\u001b[0m\n\u001b[1;32m    573\u001b[0m \u001b[38;5;28;01mdef\u001b[39;00m \u001b[38;5;21mdataframe_to_arrays\u001b[39m(df, schema, preserve_index, nthreads\u001b[38;5;241m=\u001b[39m\u001b[38;5;241m1\u001b[39m, columns\u001b[38;5;241m=\u001b[39m\u001b[38;5;28;01mNone\u001b[39;00m,\n\u001b[1;32m    574\u001b[0m                         safe\u001b[38;5;241m=\u001b[39m\u001b[38;5;28;01mTrue\u001b[39;00m):\n\u001b[1;32m    575\u001b[0m     (all_names,\n\u001b[1;32m    576\u001b[0m      column_names,\n\u001b[1;32m    577\u001b[0m      index_column_names,\n\u001b[1;32m    578\u001b[0m      index_descriptors,\n\u001b[1;32m    579\u001b[0m      index_columns,\n\u001b[1;32m    580\u001b[0m      columns_to_convert,\n\u001b[0;32m--> 581\u001b[0m      convert_fields) \u001b[38;5;241m=\u001b[39m \u001b[43m_get_columns_to_convert\u001b[49m\u001b[43m(\u001b[49m\u001b[43mdf\u001b[49m\u001b[43m,\u001b[49m\u001b[43m \u001b[49m\u001b[43mschema\u001b[49m\u001b[43m,\u001b[49m\u001b[43m \u001b[49m\u001b[43mpreserve_index\u001b[49m\u001b[43m,\u001b[49m\n\u001b[1;32m    582\u001b[0m \u001b[43m                                               \u001b[49m\u001b[43mcolumns\u001b[49m\u001b[43m)\u001b[49m\n\u001b[1;32m    584\u001b[0m     \u001b[38;5;66;03m# NOTE(wesm): If nthreads=None, then we use a heuristic to decide whether\u001b[39;00m\n\u001b[1;32m    585\u001b[0m     \u001b[38;5;66;03m# using a thread pool is worth it. Currently the heuristic is whether the\u001b[39;00m\n\u001b[1;32m    586\u001b[0m     \u001b[38;5;66;03m# nrows > 100 * ncols and ncols > 1.\u001b[39;00m\n\u001b[1;32m    587\u001b[0m     \u001b[38;5;28;01mif\u001b[39;00m nthreads \u001b[38;5;129;01mis\u001b[39;00m \u001b[38;5;28;01mNone\u001b[39;00m:\n",
      "File \u001b[0;32m~/miniconda3/lib/python3.10/site-packages/pyarrow/pandas_compat.py:360\u001b[0m, in \u001b[0;36m_get_columns_to_convert\u001b[0;34m(df, schema, preserve_index, columns)\u001b[0m\n\u001b[1;32m    359\u001b[0m \u001b[38;5;28;01mdef\u001b[39;00m \u001b[38;5;21m_get_columns_to_convert\u001b[39m(df, schema, preserve_index, columns):\n\u001b[0;32m--> 360\u001b[0m     columns \u001b[38;5;241m=\u001b[39m \u001b[43m_resolve_columns_of_interest\u001b[49m\u001b[43m(\u001b[49m\u001b[43mdf\u001b[49m\u001b[43m,\u001b[49m\u001b[43m \u001b[49m\u001b[43mschema\u001b[49m\u001b[43m,\u001b[49m\u001b[43m \u001b[49m\u001b[43mcolumns\u001b[49m\u001b[43m)\u001b[49m\n\u001b[1;32m    362\u001b[0m     \u001b[38;5;28;01mif\u001b[39;00m \u001b[38;5;129;01mnot\u001b[39;00m df\u001b[38;5;241m.\u001b[39mcolumns\u001b[38;5;241m.\u001b[39mis_unique:\n\u001b[1;32m    363\u001b[0m         \u001b[38;5;28;01mraise\u001b[39;00m \u001b[38;5;167;01mValueError\u001b[39;00m(\n\u001b[1;32m    364\u001b[0m             \u001b[38;5;124m'\u001b[39m\u001b[38;5;124mDuplicate column names found: \u001b[39m\u001b[38;5;132;01m{}\u001b[39;00m\u001b[38;5;124m'\u001b[39m\u001b[38;5;241m.\u001b[39mformat(\u001b[38;5;28mlist\u001b[39m(df\u001b[38;5;241m.\u001b[39mcolumns))\n\u001b[1;32m    365\u001b[0m         )\n",
      "File \u001b[0;32m~/miniconda3/lib/python3.10/site-packages/pyarrow/pandas_compat.py:534\u001b[0m, in \u001b[0;36m_resolve_columns_of_interest\u001b[0;34m(df, schema, columns)\u001b[0m\n\u001b[1;32m    532\u001b[0m     columns \u001b[38;5;241m=\u001b[39m [c \u001b[38;5;28;01mfor\u001b[39;00m c \u001b[38;5;129;01min\u001b[39;00m columns \u001b[38;5;28;01mif\u001b[39;00m c \u001b[38;5;129;01min\u001b[39;00m df\u001b[38;5;241m.\u001b[39mcolumns]\n\u001b[1;32m    533\u001b[0m \u001b[38;5;28;01melse\u001b[39;00m:\n\u001b[0;32m--> 534\u001b[0m     columns \u001b[38;5;241m=\u001b[39m \u001b[43mdf\u001b[49m\u001b[38;5;241;43m.\u001b[39;49m\u001b[43mcolumns\u001b[49m\n\u001b[1;32m    536\u001b[0m \u001b[38;5;28;01mreturn\u001b[39;00m columns\n",
      "\u001b[0;31mAttributeError\u001b[0m: 'Dataset' object has no attribute 'columns'"
     ]
    }
   ],
   "source": [
    "ub.saves(hf_dset, \"hf://datatmp/tmp_df\")"
   ]
  },
  {
   "cell_type": "markdown",
   "metadata": {},
   "source": [
    "### s3:"
   ]
  },
  {
   "cell_type": "code",
   "execution_count": 2,
   "metadata": {},
   "outputs": [
    {
     "name": "stdout",
     "output_type": "stream",
     "text": [
      "\u001b[37m2025-01-03 23:47:26 [INFO] loads: list LOADED from \"s3://bucket-external/misc/yada_store/configs/clip_prompts_list_full_v2.txt\" in 0.81 seconds\u001b[0m\n"
     ]
    }
   ],
   "source": [
    "prompts_list = ub.loads(\"s3://bucket-external/misc/yada_store/configs/clip_prompts_list_full_v2.txt\")"
   ]
  },
  {
   "cell_type": "markdown",
   "metadata": {},
   "source": [
    "## traverse tests:"
   ]
  },
  {
   "cell_type": "code",
   "execution_count": 2,
   "metadata": {},
   "outputs": [
    {
     "data": {
      "text/plain": [
       "['/lv0/yada/unibox/src/unibox/backends/backend_router.py',\n",
       " '/lv0/yada/unibox/src/unibox/backends/local_backend.py',\n",
       " '/lv0/yada/unibox/src/unibox/backends/hf_backend.py',\n",
       " '/lv0/yada/unibox/src/unibox/backends/__init__.py',\n",
       " '/lv0/yada/unibox/src/unibox/backends/__pycache__',\n",
       " '/lv0/yada/unibox/src/unibox/backends/s3_backend.py',\n",
       " '/lv0/yada/unibox/src/unibox/backends/base_backend.py']"
      ]
     },
     "execution_count": 2,
     "metadata": {},
     "output_type": "execute_result"
    }
   ],
   "source": [
    "ub.ls(\"/lv0/yada/unibox/src/unibox/backends\")"
   ]
  },
  {
   "cell_type": "code",
   "execution_count": 3,
   "metadata": {},
   "outputs": [
    {
     "data": {
      "text/plain": [
       "['s3://dataset-ingested/temp/danbooru_meta/',\n",
       " 's3://dataset-ingested/temp/pref-csv/',\n",
       " 's3://dataset-ingested/temp/unibox_debug/',\n",
       " 's3://dataset-ingested/temp/2step.parquet',\n",
       " 's3://dataset-ingested/temp/2xlargep1.tar',\n",
       " 's3://dataset-ingested/temp/cfed.log',\n",
       " 's3://dataset-ingested/temp/dbr_chara_meta_2m_6408-4300.parquet',\n",
       " 's3://dataset-ingested/temp/direct.parquet',\n",
       " 's3://dataset-ingested/temp/direct_no_disk.parquet',\n",
       " 's3://dataset-ingested/temp/niji5_partial_jsons.zip',\n",
       " 's3://dataset-ingested/temp/pref-shuffled.jsonl',\n",
       " 's3://dataset-ingested/temp/preference_demo_60.zip',\n",
       " 's3://dataset-ingested/temp/tag_freq_chara_2m_6408-4300.json',\n",
       " 's3://dataset-ingested/temp/tag_freq_copyright_2m_6408-4300.json']"
      ]
     },
     "execution_count": 3,
     "metadata": {},
     "output_type": "execute_result"
    }
   ],
   "source": [
    "ub.ls(\" s3://dataset-ingested/temp/\")"
   ]
  },
  {
   "cell_type": "markdown",
   "metadata": {},
   "source": [
    "## concurrency test:"
   ]
  },
  {
   "cell_type": "code",
   "execution_count": 4,
   "metadata": {},
   "outputs": [
    {
     "data": {
      "application/vnd.jupyter.widget-view+json": {
       "model_id": "c7dce5a0cc874eed858c37385ebb7954",
       "version_major": 2,
       "version_minor": 0
      },
      "text/plain": [
       "Listing local files: 0files [00:00, ?files/s]"
      ]
     },
     "metadata": {},
     "output_type": "display_data"
    },
    {
     "data": {
      "application/vnd.jupyter.widget-view+json": {
       "model_id": "f734b62d9f76412789fa74d1ba83177c",
       "version_major": 2,
       "version_minor": 0
      },
      "text/plain": [
       "Loading batches:   0%|          | 0/89 [00:00<?, ?it/s]"
      ]
     },
     "metadata": {},
     "output_type": "display_data"
    },
    {
     "data": {
      "text/plain": [
       "{'metadata': {'len': 89, 'item_type': 'JpegImageFile'},\n",
       " 'preview': [<PIL.JpegImagePlugin.JpegImageFile image mode=RGB size=1330x2048>,\n",
       "  <PIL.JpegImagePlugin.JpegImageFile image mode=RGB size=1670x2048>,\n",
       "  <PIL.JpegImagePlugin.JpegImageFile image mode=RGB size=1536x2048>]}"
      ]
     },
     "execution_count": 4,
     "metadata": {},
     "output_type": "execute_result"
    }
   ],
   "source": [
    "# ls a folder of jpg files, ensure they all have absolute paths\n",
    "files = ub.ls(\"/rmt/image_data/dataset-ingested/gallery-dl/twitter/shn_sik\")\n",
    "imgs = ub.concurrent_loads(files)\n",
    "ub.peeks(imgs)"
   ]
  },
  {
   "cell_type": "code",
   "execution_count": null,
   "metadata": {},
   "outputs": [],
   "source": [
    "ub.gallery(files)"
   ]
  },
  {
   "cell_type": "markdown",
   "metadata": {},
   "source": [
    "## Loader tests:"
   ]
  },
  {
   "cell_type": "code",
   "execution_count": 1,
   "metadata": {},
   "outputs": [
    {
     "name": "stdout",
     "output_type": "stream",
     "text": [
      "Using global temporary directory: /tmp/unibox_temp\n",
      "\u001b[37m2025-02-14 03:48:53 [INFO] loads: dict LOADED from \"../tests/test_files/sample.toml\" in 0.00s\u001b[0m\n",
      "{'name': 'Anime Rating System', 'version': 1.0, 'categories': [{'name': 'Proportions', 'description': 'Evaluates the correctness of body proportions.', 'weight': 0.4}, {'name': 'Pose Accuracy', 'description': 'Checks if the pose follows realistic constraints.', 'weight': 0.3}, {'name': 'Structural Consistency', 'description': 'Ensures body parts are correctly connected.', 'weight': 0.3}], 'raters': [{'id': 101, 'name': 'RaterA', 'availability': 'high', 'assigned_images': 2000}, {'id': 102, 'name': 'RaterB', 'availability': 'medium', 'assigned_images': 1000}, {'id': 103, 'name': 'RaterC', 'availability': 'low', 'assigned_images': 500}]}\n",
      "\u001b[37m2025-02-14 03:48:53 [INFO] loads: dict LOADED from \"../tests/test_files/sample.yaml\" in 0.00s\u001b[0m\n",
      "{'name': 'Anime Rating System', 'version': 1.0, 'categories': [{'name': 'Proportions', 'description': 'Evaluates the correctness of body proportions.', 'weight': 0.4}, {'name': 'Pose Accuracy', 'description': 'Checks if the pose follows realistic constraints.', 'weight': 0.3}, {'name': 'Structural Consistency', 'description': 'Ensures body parts are correctly connected.', 'weight': 0.3}], 'raters': [{'id': 101, 'name': 'RaterA', 'availability': 'high', 'assigned_images': 2000}, {'id': 102, 'name': 'RaterB', 'availability': 'medium', 'assigned_images': 1000}, {'id': 103, 'name': 'RaterC', 'availability': 'low', 'assigned_images': 500}]}\n"
     ]
    }
   ],
   "source": [
    "import unibox as ub\n",
    "\n",
    "sample_toml_file = \"../tests/test_files/sample.toml\"\n",
    "sample_yaml_file = \"../tests/test_files/sample.yaml\"\n",
    "\n",
    "\n",
    "file = ub.loads(sample_toml_file)\n",
    "print(file)\n",
    "\n",
    "file = ub.loads(sample_yaml_file)\n",
    "print(file)"
   ]
  },
  {
   "cell_type": "markdown",
   "metadata": {},
   "source": [
    "test dataset split:"
   ]
  },
  {
   "cell_type": "code",
   "execution_count": 1,
   "metadata": {},
   "outputs": [
    {
     "name": "stdout",
     "output_type": "stream",
     "text": [
      "Using global temporary directory: /tmp/unibox_temp\n"
     ]
    },
    {
     "data": {
      "text/html": [
       "<div>\n",
       "<style scoped>\n",
       "    .dataframe tbody tr th:only-of-type {\n",
       "        vertical-align: middle;\n",
       "    }\n",
       "\n",
       "    .dataframe tbody tr th {\n",
       "        vertical-align: top;\n",
       "    }\n",
       "\n",
       "    .dataframe thead th {\n",
       "        text-align: right;\n",
       "    }\n",
       "</style>\n",
       "<table border=\"1\" class=\"dataframe\">\n",
       "  <thead>\n",
       "    <tr style=\"text-align: right;\">\n",
       "      <th></th>\n",
       "      <th>name</th>\n",
       "      <th>age</th>\n",
       "    </tr>\n",
       "  </thead>\n",
       "  <tbody>\n",
       "    <tr>\n",
       "      <th>0</th>\n",
       "      <td>Alice</td>\n",
       "      <td>25</td>\n",
       "    </tr>\n",
       "    <tr>\n",
       "      <th>1</th>\n",
       "      <td>Bob</td>\n",
       "      <td>30</td>\n",
       "    </tr>\n",
       "    <tr>\n",
       "      <th>2</th>\n",
       "      <td>Charlie</td>\n",
       "      <td>35</td>\n",
       "    </tr>\n",
       "  </tbody>\n",
       "</table>\n",
       "</div>"
      ],
      "text/plain": [
       "      name  age\n",
       "0    Alice   25\n",
       "1      Bob   30\n",
       "2  Charlie   35"
      ]
     },
     "execution_count": 1,
     "metadata": {},
     "output_type": "execute_result"
    }
   ],
   "source": [
    "import unibox as ub\n",
    "import pandas as pd\n",
    "\n",
    "df = pd.DataFrame({\"name\": [\"Alice\", \"Bob\", \"Charlie\"], \"age\": [25, 30, 35]})\n",
    "df"
   ]
  },
  {
   "cell_type": "code",
   "execution_count": 3,
   "metadata": {},
   "outputs": [
    {
     "name": "stdout",
     "output_type": "stream",
     "text": [
      "\u001b[37m2025-02-16 14:11:21 [INFO] HuggingFaceDatasetsBackend.data_to_hub: Uploading dataset to HF repo datatmp/test_df2\u001b[0m\n"
     ]
    },
    {
     "data": {
      "application/vnd.jupyter.widget-view+json": {
       "model_id": "c92f357b8ffc4992baf1eb645490da7c",
       "version_major": 2,
       "version_minor": 0
      },
      "text/plain": [
       "Uploading the dataset shards:   0%|          | 0/1 [00:00<?, ?it/s]"
      ]
     },
     "metadata": {},
     "output_type": "display_data"
    },
    {
     "data": {
      "application/vnd.jupyter.widget-view+json": {
       "model_id": "5997c668568144388af81b17bdb532f4",
       "version_major": 2,
       "version_minor": 0
      },
      "text/plain": [
       "Creating parquet from Arrow format:   0%|          | 0/1 [00:00<?, ?ba/s]"
      ]
     },
     "metadata": {},
     "output_type": "display_data"
    },
    {
     "name": "stdout",
     "output_type": "stream",
     "text": [
      "\u001b[37m2025-02-16 14:11:23 [INFO] saves: DataFrame saved (HF dataset) to \"hf://datatmp/test_df2\" in 1.63s\u001b[0m\n"
     ]
    }
   ],
   "source": [
    "ub.saves(df, \"hf://datatmp/test_df2\", split=\"bla_bla\", private=False)"
   ]
  },
  {
   "cell_type": "code",
   "execution_count": 8,
   "metadata": {},
   "outputs": [
    {
     "data": {
      "text/plain": [
       "('incantor/aesthetic_eagle_5category_iter99', '')"
      ]
     },
     "execution_count": 8,
     "metadata": {},
     "output_type": "execute_result"
    }
   ],
   "source": [
    "def _parse_hf_uri(uri: str):\n",
    "    \"\"\"Returns (repo_id, subpath) from 'hf://owner/repo/...'. If no subpath, returns ('owner/repo', '').\"\"\"\n",
    "    trimmed = uri.replace(\"hf://\", \"\", 1)\n",
    "    parts = trimmed.split(\"/\", 2)  # Split into at most three parts\n",
    "    if len(parts) < 2:\n",
    "        raise ValueError(f\"Invalid Hugging Face URI format: {uri}\")\n",
    "    \n",
    "    repo_id = f\"{parts[0]}/{parts[1]}\"  # First two parts make up the repo ID\n",
    "    subpath = parts[2] if len(parts) > 2 else \"\"  # Remaining part is the subpath\n",
    "\n",
    "    return repo_id, subpath\n",
    "\n",
    "\n",
    "\n",
    "_parse_hf_uri(\"hf://incantor/aesthetic_eagle_5category_iter99\")"
   ]
  },
  {
   "cell_type": "code",
   "execution_count": null,
   "metadata": {},
   "outputs": [
    {
     "data": {
      "text/plain": [
       "('incantor', 'aesthetic_eagle_5category_iter99/file.parquet')"
      ]
     },
     "execution_count": 7,
     "metadata": {},
     "output_type": "execute_result"
    }
   ],
   "source": [
    "_parse_hf_uri(\"hf://incantor/aesthetic_eagle_5category_iter99/file.parquet\") # incantor/aesthetic_eagle_5category_iter99, file.parquet\n",
    "\n",
    "_parse_hf_uri(\"hf://incantor/aesthetic_eagle_5category_iter99\") # incantor/aesthetic_eagle_5category_iter99, \"\""
   ]
  },
  {
   "cell_type": "markdown",
   "metadata": {},
   "source": [
    "## Logger test:"
   ]
  },
  {
   "cell_type": "code",
   "execution_count": 1,
   "metadata": {},
   "outputs": [
    {
     "name": "stdout",
     "output_type": "stream",
     "text": [
      "Using global temporary directory: /tmp/unibox_temp\n",
      "some normal print\n",
      "\u001b[37m2025-02-22 17:38:12 [INFO] some_class.some_func: Hello from some_func\u001b[0m\n",
      "\u001b[37m2025-02-22 17:38:12 [INFO] some_class.some_func: ✅ Hello from some_func\u001b[0m\n",
      "\u001b[33m2025-02-22 17:38:12 [WARNING] some_class.some_func: ⚠️ Hello from some_func /ipykernel_406309/3891427853.py:17\u001b[0m\n",
      "\u001b[31m2025-02-22 17:38:12 [ERROR] some_class.some_func: ❌ Hello from some_func /ipykernel_406309/3891427853.py:19\u001b[0m\n",
      "\u001b[1;31m2025-02-22 17:38:12 [CRITICAL] some_class.some_func: 🔥 Hello from some_func /ipykernel_406309/3891427853.py:21\u001b[0m\n"
     ]
    }
   ],
   "source": [
    "from unibox.utils.logger import UniLogger\n",
    "\n",
    "l1 = UniLogger(use_color=True)\n",
    "\n",
    "\n",
    "class some_class():\n",
    "    def __init__(self):\n",
    "        pass\n",
    "\n",
    "    def some_func(self):\n",
    "        print(\"some normal print\")\n",
    "\n",
    "        l1.info(\"Hello from some_func\")\n",
    "\n",
    "        l1.notice(\"Hello from some_func\")\n",
    "\n",
    "        l1.warning(\"Hello from some_func\")\n",
    "        \n",
    "        l1.error(\"Hello from some_func\")\n",
    "\n",
    "        l1.critical(\"Hello from some_func\")\n",
    "\n",
    "cls = some_class()\n",
    "cls.some_func()"
   ]
  }
 ],
 "metadata": {
  "kernelspec": {
   "display_name": "base",
   "language": "python",
   "name": "python3"
  },
  "language_info": {
   "codemirror_mode": {
    "name": "ipython",
    "version": 3
   },
   "file_extension": ".py",
   "mimetype": "text/x-python",
   "name": "python",
   "nbconvert_exporter": "python",
   "pygments_lexer": "ipython3",
   "version": "3.10.16"
  }
 },
 "nbformat": 4,
 "nbformat_minor": 2
}
