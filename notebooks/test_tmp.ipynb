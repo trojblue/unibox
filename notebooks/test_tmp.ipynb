{
 "cells": [
  {
   "cell_type": "code",
   "execution_count": null,
   "metadata": {},
   "outputs": [
    {
     "name": "stdout",
     "output_type": "stream",
     "text": [
      "\u001b[37m2025-02-22 18:18:15 [INFO] loads: Loading from hf://datatmp/test_hf_card3\u001b[0m\n"
     ]
    },
    {
     "data": {
      "application/vnd.jupyter.widget-view+json": {
       "model_id": "2e51fb7c763f4f9c896dbe345ab13504",
       "version_major": 2,
       "version_minor": 0
      },
      "text/plain": [
       "Saving the dataset (0/1 shards):   0%|          | 0/1000 [00:00<?, ? examples/s]"
      ]
     },
     "metadata": {},
     "output_type": "display_data"
    }
   ],
   "source": [
    "import unibox as ub\n",
    "\n",
    "\n",
    "df = ub.loads(\"hf://datatmp/test_hf_card3\")\n",
    "\n",
    "df"
   ]
  },
  {
   "cell_type": "code",
   "execution_count": 1,
   "metadata": {},
   "outputs": [
    {
     "name": "stdout",
     "output_type": "stream",
     "text": [
      "Using global temporary directory: /tmp/unibox_temp\n",
      "\u001b[37m2025-02-22 18:17:54 [INFO] loads: Loading from s3://dataset-ingested/temp/unibox_debug/clip_prompts_list_full_v2.txt\u001b[0m\n"
     ]
    },
    {
     "data": {
      "text/plain": [
       "['anime',\n",
       " 'anime illustration',\n",
       " 'an anime style image',\n",
       " 'a photo',\n",
       " 'a realistic photo',\n",
       " 'a cosplay photo',\n",
       " 'a photo of a person in cosplay costumes',\n",
       " 'a photo of a person doing cosplay',\n",
       " 'a drawing',\n",
       " 'a painting',\n",
       " 'logo design',\n",
       " 'font design',\n",
       " '2d design',\n",
       " 'a 3d render',\n",
       " 'a character design sheet',\n",
       " 'a QR code',\n",
       " 'drawing sketch',\n",
       " 'painting sketch',\n",
       " 'a realistic drawing',\n",
       " 'a realistic photo of some food',\n",
       " 'a photo of the table with food',\n",
       " 'food photo',\n",
       " 'an abstract painting',\n",
       " 'artificial illustration',\n",
       " 'realistic photography',\n",
       " 'a photo of a painting',\n",
       " 'sketch image',\n",
       " 'doodle',\n",
       " 'album cover',\n",
       " 'meme',\n",
       " 'comic page',\n",
       " 'manga page',\n",
       " 'screenshot',\n",
       " 'gacha game',\n",
       " 'mobile game screenshot',\n",
       " 'a document',\n",
       " 'a document page',\n",
       " 'text',\n",
       " 'book',\n",
       " 'a diagram',\n",
       " 'solid color',\n",
       " 'color gradient',\n",
       " 'simplistic image',\n",
       " 'an professional image that follows photography composition',\n",
       " 'an image with imbalanced visual weight',\n",
       " 'an image with all focal subjects concentrated on one side of the frame',\n",
       " 'an image with primary subject obscured',\n",
       " 'an image with distracting unimportant objects',\n",
       " 'an image with balanced exposure that enhances the image',\n",
       " 'an image with dynamic lighting',\n",
       " 'an image with lighting that originates from an angle',\n",
       " 'an image with artificial lighting',\n",
       " 'an image with lackluster lighting',\n",
       " 'an excessively dim image',\n",
       " 'an overexposed image',\n",
       " 'an image with strong color and contrast',\n",
       " 'an monochromatic image',\n",
       " 'an image with a single dominant color',\n",
       " 'a realistic photo of some food',\n",
       " 'food photo',\n",
       " 'a photo of the table with food',\n",
       " 'a QR code',\n",
       " 'a 3d render',\n",
       " 'logo design',\n",
       " 'a photo of a person in cosplay costumes',\n",
       " 'a photo of a person doing cosplay',\n",
       " 'a cosplay photo',\n",
       " 'a photo of a book',\n",
       " 'a blank page with no recognizable main subject',\n",
       " 'a screenshot taken from a drawing software',\n",
       " 'a sketch with no recognizable main subject',\n",
       " 'a sketch that is not of anime subject',\n",
       " 'a photo of the real world taken from a perspective with printed anime goods in the shot',\n",
       " 'a photo taken from a perspective with printed anime goods in the shot',\n",
       " 'a photo taken from a perspective with some anime goods in the shot',\n",
       " 'an anime advertisement with text on it',\n",
       " 'a poster with text with anime figures on it',\n",
       " 'a screenshot from gacha game with ui on it',\n",
       " 'a gacha game screenshot',\n",
       " 'a photo of a drawing on a table with some pens nearby',\n",
       " 'a photo of a drawing and its surrounding',\n",
       " 'a photo of anime related goods',\n",
       " 'a photo of a booth of anime goods']"
      ]
     },
     "execution_count": 1,
     "metadata": {},
     "output_type": "execute_result"
    }
   ],
   "source": [
    "import unibox as ub\n",
    "\n",
    "df = ub.loads(\"s3://dataset-ingested/temp/unibox_debug/clip_prompts_list_full_v2.txt\")\n",
    "\n",
    "df"
   ]
  }
 ],
 "metadata": {
  "kernelspec": {
   "display_name": "base",
   "language": "python",
   "name": "python3"
  },
  "language_info": {
   "codemirror_mode": {
    "name": "ipython",
    "version": 3
   },
   "file_extension": ".py",
   "mimetype": "text/x-python",
   "name": "python",
   "nbconvert_exporter": "python",
   "pygments_lexer": "ipython3",
   "version": "3.10.16"
  }
 },
 "nbformat": 4,
 "nbformat_minor": 2
}
