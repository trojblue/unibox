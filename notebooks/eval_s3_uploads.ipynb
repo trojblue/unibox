{
 "cells": [
  {
   "cell_type": "code",
   "execution_count": 2,
   "metadata": {},
   "outputs": [
    {
     "name": "stdout",
     "output_type": "stream",
     "text": [
      "Using global temporary directory: /tmp/unibox_temp\n",
      "\u001b[37m2025-02-22 16:42:56 [INFO] loads: Dataset LOADED from \"hf://datatmp/test_hf_card3\" in 1.45s\u001b[0m\n"
     ]
    },
    {
     "data": {
      "text/plain": [
       "Dataset({\n",
       "    features: ['name', 'age', 'height', 'weight', 'date', 'is_student'],\n",
       "    num_rows: 1000\n",
       "})"
      ]
     },
     "execution_count": 2,
     "metadata": {},
     "output_type": "execute_result"
    }
   ],
   "source": [
    "import unibox as ub\n",
    "\n",
    "df = ub.loads(\"hf://datatmp/test_hf_card3\")\n",
    "\n",
    "df"
   ]
  },
  {
   "cell_type": "code",
   "execution_count": 2,
   "metadata": {},
   "outputs": [
    {
     "name": "stdout",
     "output_type": "stream",
     "text": [
      "\u001b[37m2025-02-22 16:42:25 [INFO] loads: DataFrame LOADED from \"hf://datatmp/test_hf_card3\" in 1.16s\u001b[0m\n"
     ]
    },
    {
     "data": {
      "text/html": [
       "<div>\n",
       "<style scoped>\n",
       "    .dataframe tbody tr th:only-of-type {\n",
       "        vertical-align: middle;\n",
       "    }\n",
       "\n",
       "    .dataframe tbody tr th {\n",
       "        vertical-align: top;\n",
       "    }\n",
       "\n",
       "    .dataframe thead th {\n",
       "        text-align: right;\n",
       "    }\n",
       "</style>\n",
       "<table border=\"1\" class=\"dataframe\">\n",
       "  <thead>\n",
       "    <tr style=\"text-align: right;\">\n",
       "      <th></th>\n",
       "      <th>name</th>\n",
       "      <th>age</th>\n",
       "      <th>height</th>\n",
       "      <th>weight</th>\n",
       "      <th>date</th>\n",
       "      <th>is_student</th>\n",
       "    </tr>\n",
       "  </thead>\n",
       "  <tbody>\n",
       "    <tr>\n",
       "      <th>0</th>\n",
       "      <td>Name_0</td>\n",
       "      <td>55</td>\n",
       "      <td>168</td>\n",
       "      <td>52</td>\n",
       "      <td>2025-02-21 23:42:14.771897</td>\n",
       "      <td>True</td>\n",
       "    </tr>\n",
       "    <tr>\n",
       "      <th>1</th>\n",
       "      <td>Name_1</td>\n",
       "      <td>53</td>\n",
       "      <td>157</td>\n",
       "      <td>95</td>\n",
       "      <td>2025-02-21 23:42:14.771899</td>\n",
       "      <td>True</td>\n",
       "    </tr>\n",
       "    <tr>\n",
       "      <th>2</th>\n",
       "      <td>Name_2</td>\n",
       "      <td>79</td>\n",
       "      <td>150</td>\n",
       "      <td>123</td>\n",
       "      <td>2025-02-21 23:42:14.771899</td>\n",
       "      <td>False</td>\n",
       "    </tr>\n",
       "    <tr>\n",
       "      <th>3</th>\n",
       "      <td>Name_3</td>\n",
       "      <td>50</td>\n",
       "      <td>193</td>\n",
       "      <td>137</td>\n",
       "      <td>2025-02-21 23:42:14.771899</td>\n",
       "      <td>True</td>\n",
       "    </tr>\n",
       "    <tr>\n",
       "      <th>4</th>\n",
       "      <td>Name_4</td>\n",
       "      <td>30</td>\n",
       "      <td>169</td>\n",
       "      <td>134</td>\n",
       "      <td>2025-02-21 23:42:14.771900</td>\n",
       "      <td>True</td>\n",
       "    </tr>\n",
       "    <tr>\n",
       "      <th>...</th>\n",
       "      <td>...</td>\n",
       "      <td>...</td>\n",
       "      <td>...</td>\n",
       "      <td>...</td>\n",
       "      <td>...</td>\n",
       "      <td>...</td>\n",
       "    </tr>\n",
       "    <tr>\n",
       "      <th>995</th>\n",
       "      <td>Name_995</td>\n",
       "      <td>55</td>\n",
       "      <td>183</td>\n",
       "      <td>112</td>\n",
       "      <td>2025-02-21 23:42:14.772106</td>\n",
       "      <td>True</td>\n",
       "    </tr>\n",
       "    <tr>\n",
       "      <th>996</th>\n",
       "      <td>Name_996</td>\n",
       "      <td>62</td>\n",
       "      <td>164</td>\n",
       "      <td>116</td>\n",
       "      <td>2025-02-21 23:42:14.772106</td>\n",
       "      <td>True</td>\n",
       "    </tr>\n",
       "    <tr>\n",
       "      <th>997</th>\n",
       "      <td>Name_997</td>\n",
       "      <td>22</td>\n",
       "      <td>200</td>\n",
       "      <td>120</td>\n",
       "      <td>2025-02-21 23:42:14.772106</td>\n",
       "      <td>False</td>\n",
       "    </tr>\n",
       "    <tr>\n",
       "      <th>998</th>\n",
       "      <td>Name_998</td>\n",
       "      <td>31</td>\n",
       "      <td>182</td>\n",
       "      <td>73</td>\n",
       "      <td>2025-02-21 23:42:14.772107</td>\n",
       "      <td>False</td>\n",
       "    </tr>\n",
       "    <tr>\n",
       "      <th>999</th>\n",
       "      <td>Name_999</td>\n",
       "      <td>73</td>\n",
       "      <td>196</td>\n",
       "      <td>97</td>\n",
       "      <td>2025-02-21 23:42:14.772107</td>\n",
       "      <td>True</td>\n",
       "    </tr>\n",
       "  </tbody>\n",
       "</table>\n",
       "<p>1000 rows × 6 columns</p>\n",
       "</div>"
      ],
      "text/plain": [
       "         name  age  height  weight                       date  is_student\n",
       "0      Name_0   55     168      52 2025-02-21 23:42:14.771897        True\n",
       "1      Name_1   53     157      95 2025-02-21 23:42:14.771899        True\n",
       "2      Name_2   79     150     123 2025-02-21 23:42:14.771899       False\n",
       "3      Name_3   50     193     137 2025-02-21 23:42:14.771899        True\n",
       "4      Name_4   30     169     134 2025-02-21 23:42:14.771900        True\n",
       "..        ...  ...     ...     ...                        ...         ...\n",
       "995  Name_995   55     183     112 2025-02-21 23:42:14.772106        True\n",
       "996  Name_996   62     164     116 2025-02-21 23:42:14.772106        True\n",
       "997  Name_997   22     200     120 2025-02-21 23:42:14.772106       False\n",
       "998  Name_998   31     182      73 2025-02-21 23:42:14.772107       False\n",
       "999  Name_999   73     196      97 2025-02-21 23:42:14.772107        True\n",
       "\n",
       "[1000 rows x 6 columns]"
      ]
     },
     "execution_count": 2,
     "metadata": {},
     "output_type": "execute_result"
    }
   ],
   "source": [
    "import unibox as ub\n",
    "\n",
    "df = ub.loads(\"hf://datatmp/test_hf_card3\", to_pandas=True)\n",
    "\n",
    "df"
   ]
  },
  {
   "cell_type": "code",
   "execution_count": 3,
   "metadata": {},
   "outputs": [
    {
     "ename": "TypeError",
     "evalue": "CSVLoader.load() got an unexpected keyword argument 'to_pandas'",
     "output_type": "error",
     "traceback": [
      "\u001b[0;31m---------------------------------------------------------------------------\u001b[0m",
      "\u001b[0;31mTypeError\u001b[0m                                 Traceback (most recent call last)",
      "Cell \u001b[0;32mIn[3], line 1\u001b[0m\n\u001b[0;32m----> 1\u001b[0m df \u001b[38;5;241m=\u001b[39m \u001b[43mub\u001b[49m\u001b[38;5;241;43m.\u001b[39;49m\u001b[43mloads\u001b[49m\u001b[43m(\u001b[49m\u001b[38;5;124;43m\"\u001b[39;49m\u001b[38;5;124;43m/lv0/yada/unibox/tests/test_files/sample.csv\u001b[39;49m\u001b[38;5;124;43m\"\u001b[39;49m\u001b[43m,\u001b[49m\u001b[43m \u001b[49m\u001b[43mto_pandas\u001b[49m\u001b[38;5;241;43m=\u001b[39;49m\u001b[38;5;28;43;01mTrue\u001b[39;49;00m\u001b[43m)\u001b[49m\n\u001b[1;32m      2\u001b[0m df\n",
      "File \u001b[0;32m/lv0/yada/unibox/src/unibox/unibox.py:125\u001b[0m, in \u001b[0;36mloads\u001b[0;34m(uri, file, debug_print, **kwargs)\u001b[0m\n\u001b[1;32m    122\u001b[0m \u001b[38;5;28;01mif\u001b[39;00m loader \u001b[38;5;129;01mis\u001b[39;00m \u001b[38;5;28;01mNone\u001b[39;00m:\n\u001b[1;32m    123\u001b[0m     \u001b[38;5;28;01mraise\u001b[39;00m \u001b[38;5;167;01mValueError\u001b[39;00m(\u001b[38;5;124mf\u001b[39m\u001b[38;5;124m\"\u001b[39m\u001b[38;5;124mNo loader found for suffix: \u001b[39m\u001b[38;5;132;01m{\u001b[39;00msuffix\u001b[38;5;132;01m}\u001b[39;00m\u001b[38;5;124m\"\u001b[39m)\n\u001b[0;32m--> 125\u001b[0m res \u001b[38;5;241m=\u001b[39m \u001b[43mloader\u001b[49m\u001b[38;5;241;43m.\u001b[39;49m\u001b[43mload\u001b[49m\u001b[43m(\u001b[49m\u001b[43mlocal_path\u001b[49m\u001b[43m,\u001b[49m\u001b[43m \u001b[49m\u001b[38;5;241;43m*\u001b[39;49m\u001b[38;5;241;43m*\u001b[39;49m\u001b[43mkwargs\u001b[49m\u001b[43m)\u001b[49m\n\u001b[1;32m    127\u001b[0m \u001b[38;5;66;03m# if remote => remove temp\u001b[39;00m\n\u001b[1;32m    128\u001b[0m \u001b[38;5;28;01mif\u001b[39;00m \u001b[38;5;129;01mnot\u001b[39;00m \u001b[38;5;28misinstance\u001b[39m(backend, LocalBackend):\n",
      "\u001b[0;31mTypeError\u001b[0m: CSVLoader.load() got an unexpected keyword argument 'to_pandas'"
     ]
    }
   ],
   "source": [
    "df = ub.loads(\"/lv0/yada/unibox/tests/test_files/sample.csv\", to_pandas=True)\n",
    "df"
   ]
  }
 ],
 "metadata": {
  "kernelspec": {
   "display_name": "base",
   "language": "python",
   "name": "python3"
  },
  "language_info": {
   "codemirror_mode": {
    "name": "ipython",
    "version": 3
   },
   "file_extension": ".py",
   "mimetype": "text/x-python",
   "name": "python",
   "nbconvert_exporter": "python",
   "pygments_lexer": "ipython3",
   "version": "3.10.16"
  }
 },
 "nbformat": 4,
 "nbformat_minor": 2
}
